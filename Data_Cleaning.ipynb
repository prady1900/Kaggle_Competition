{
  "nbformat": 4,
  "nbformat_minor": 0,
  "metadata": {
    "colab": {
      "name": "Untitled2.ipynb",
      "provenance": [],
      "collapsed_sections": [],
      "authorship_tag": "ABX9TyPi72Rqcde3+GVVnczvG0+D",
      "include_colab_link": true
    },
    "kernelspec": {
      "name": "python3",
      "display_name": "Python 3"
    },
    "language_info": {
      "name": "python"
    },
    "accelerator": "GPU"
  },
  "cells": [
    {
      "cell_type": "markdown",
      "metadata": {
        "id": "view-in-github",
        "colab_type": "text"
      },
      "source": [
        "<a href=\"https://colab.research.google.com/github/prady1900/Kaggle_Competition/blob/main/Data_Cleaning.ipynb\" target=\"_parent\"><img src=\"https://colab.research.google.com/assets/colab-badge.svg\" alt=\"Open In Colab\"/></a>"
      ]
    },
    {
      "cell_type": "code",
      "metadata": {
        "id": "xOC--Q-ihxqr"
      },
      "source": [
        "import pandas as pd\n",
        "import numpy as np\n",
        "import keras\n",
        "import tensorflow as tf\n",
        "import seaborn as sns"
      ],
      "execution_count": 2,
      "outputs": []
    },
    {
      "cell_type": "code",
      "metadata": {
        "id": "EblP2uvvh0Ks"
      },
      "source": [
        "df = pd.read_csv('train.csv')"
      ],
      "execution_count": 51,
      "outputs": []
    },
    {
      "cell_type": "code",
      "metadata": {
        "colab": {
          "base_uri": "https://localhost:8080/",
          "height": 275
        },
        "id": "rOr595XQkLkl",
        "outputId": "d81bf545-5824-4372-aa5a-7086f934b872"
      },
      "source": [
        "df.head()"
      ],
      "execution_count": 52,
      "outputs": [
        {
          "output_type": "execute_result",
          "data": {
            "text/html": [
              "<div>\n",
              "<style scoped>\n",
              "    .dataframe tbody tr th:only-of-type {\n",
              "        vertical-align: middle;\n",
              "    }\n",
              "\n",
              "    .dataframe tbody tr th {\n",
              "        vertical-align: top;\n",
              "    }\n",
              "\n",
              "    .dataframe thead th {\n",
              "        text-align: right;\n",
              "    }\n",
              "</style>\n",
              "<table border=\"1\" class=\"dataframe\">\n",
              "  <thead>\n",
              "    <tr style=\"text-align: right;\">\n",
              "      <th></th>\n",
              "      <th>POSTED_BY</th>\n",
              "      <th>UNDER_CONSTRUCTION</th>\n",
              "      <th>RERA</th>\n",
              "      <th>BHK_NO.</th>\n",
              "      <th>BHK_OR_RK</th>\n",
              "      <th>SQUARE_FT</th>\n",
              "      <th>READY_TO_MOVE</th>\n",
              "      <th>RESALE</th>\n",
              "      <th>ADDRESS</th>\n",
              "      <th>LONGITUDE</th>\n",
              "      <th>LATITUDE</th>\n",
              "      <th>TARGET(PRICE_IN_LACS)</th>\n",
              "    </tr>\n",
              "  </thead>\n",
              "  <tbody>\n",
              "    <tr>\n",
              "      <th>0</th>\n",
              "      <td>Owner</td>\n",
              "      <td>0</td>\n",
              "      <td>0</td>\n",
              "      <td>2</td>\n",
              "      <td>BHK</td>\n",
              "      <td>1300.236407</td>\n",
              "      <td>1</td>\n",
              "      <td>1</td>\n",
              "      <td>Ksfc Layout,Bangalore</td>\n",
              "      <td>12.969910</td>\n",
              "      <td>77.597960</td>\n",
              "      <td>55.0</td>\n",
              "    </tr>\n",
              "    <tr>\n",
              "      <th>1</th>\n",
              "      <td>Dealer</td>\n",
              "      <td>0</td>\n",
              "      <td>0</td>\n",
              "      <td>2</td>\n",
              "      <td>BHK</td>\n",
              "      <td>1275.000000</td>\n",
              "      <td>1</td>\n",
              "      <td>1</td>\n",
              "      <td>Vishweshwara Nagar,Mysore</td>\n",
              "      <td>12.274538</td>\n",
              "      <td>76.644605</td>\n",
              "      <td>51.0</td>\n",
              "    </tr>\n",
              "    <tr>\n",
              "      <th>2</th>\n",
              "      <td>Owner</td>\n",
              "      <td>0</td>\n",
              "      <td>0</td>\n",
              "      <td>2</td>\n",
              "      <td>BHK</td>\n",
              "      <td>933.159722</td>\n",
              "      <td>1</td>\n",
              "      <td>1</td>\n",
              "      <td>Jigani,Bangalore</td>\n",
              "      <td>12.778033</td>\n",
              "      <td>77.632191</td>\n",
              "      <td>43.0</td>\n",
              "    </tr>\n",
              "    <tr>\n",
              "      <th>3</th>\n",
              "      <td>Owner</td>\n",
              "      <td>0</td>\n",
              "      <td>1</td>\n",
              "      <td>2</td>\n",
              "      <td>BHK</td>\n",
              "      <td>929.921143</td>\n",
              "      <td>1</td>\n",
              "      <td>1</td>\n",
              "      <td>Sector-1 Vaishali,Ghaziabad</td>\n",
              "      <td>28.642300</td>\n",
              "      <td>77.344500</td>\n",
              "      <td>62.5</td>\n",
              "    </tr>\n",
              "    <tr>\n",
              "      <th>4</th>\n",
              "      <td>Dealer</td>\n",
              "      <td>1</td>\n",
              "      <td>0</td>\n",
              "      <td>2</td>\n",
              "      <td>BHK</td>\n",
              "      <td>999.009247</td>\n",
              "      <td>0</td>\n",
              "      <td>1</td>\n",
              "      <td>New Town,Kolkata</td>\n",
              "      <td>22.592200</td>\n",
              "      <td>88.484911</td>\n",
              "      <td>60.5</td>\n",
              "    </tr>\n",
              "  </tbody>\n",
              "</table>\n",
              "</div>"
            ],
            "text/plain": [
              "  POSTED_BY  UNDER_CONSTRUCTION  ...   LATITUDE  TARGET(PRICE_IN_LACS)\n",
              "0     Owner                   0  ...  77.597960                   55.0\n",
              "1    Dealer                   0  ...  76.644605                   51.0\n",
              "2     Owner                   0  ...  77.632191                   43.0\n",
              "3     Owner                   0  ...  77.344500                   62.5\n",
              "4    Dealer                   1  ...  88.484911                   60.5\n",
              "\n",
              "[5 rows x 12 columns]"
            ]
          },
          "metadata": {
            "tags": []
          },
          "execution_count": 52
        }
      ]
    },
    {
      "cell_type": "code",
      "metadata": {
        "colab": {
          "base_uri": "https://localhost:8080/"
        },
        "id": "YUaqfZNKkM6m",
        "outputId": "27a29e03-21a9-4831-ac38-e5817711ba55"
      },
      "source": [
        "df.isnull().sum()"
      ],
      "execution_count": 5,
      "outputs": [
        {
          "output_type": "execute_result",
          "data": {
            "text/plain": [
              "POSTED_BY                0\n",
              "UNDER_CONSTRUCTION       0\n",
              "RERA                     0\n",
              "BHK_NO.                  0\n",
              "BHK_OR_RK                0\n",
              "SQUARE_FT                0\n",
              "READY_TO_MOVE            0\n",
              "RESALE                   0\n",
              "ADDRESS                  0\n",
              "LONGITUDE                0\n",
              "LATITUDE                 0\n",
              "TARGET(PRICE_IN_LACS)    0\n",
              "dtype: int64"
            ]
          },
          "metadata": {
            "tags": []
          },
          "execution_count": 5
        }
      ]
    },
    {
      "cell_type": "code",
      "metadata": {
        "id": "ztlLaR5skWx-"
      },
      "source": [
        "df.drop(['ADDRESS'], axis=1, inplace=True)"
      ],
      "execution_count": 53,
      "outputs": []
    },
    {
      "cell_type": "code",
      "metadata": {
        "id": "xJE5YeNcvvn6"
      },
      "source": [
        ""
      ],
      "execution_count": null,
      "outputs": []
    },
    {
      "cell_type": "code",
      "metadata": {
        "id": "3PWl04HhvvlB"
      },
      "source": [
        ""
      ],
      "execution_count": null,
      "outputs": []
    },
    {
      "cell_type": "code",
      "metadata": {
        "colab": {
          "base_uri": "https://localhost:8080/",
          "height": 224
        },
        "id": "Vi2Izorcvekr",
        "outputId": "0c54dff3-0529-452d-87af-8b4462cd4efa"
      },
      "source": [
        "df.head()"
      ],
      "execution_count": 54,
      "outputs": [
        {
          "output_type": "execute_result",
          "data": {
            "text/html": [
              "<div>\n",
              "<style scoped>\n",
              "    .dataframe tbody tr th:only-of-type {\n",
              "        vertical-align: middle;\n",
              "    }\n",
              "\n",
              "    .dataframe tbody tr th {\n",
              "        vertical-align: top;\n",
              "    }\n",
              "\n",
              "    .dataframe thead th {\n",
              "        text-align: right;\n",
              "    }\n",
              "</style>\n",
              "<table border=\"1\" class=\"dataframe\">\n",
              "  <thead>\n",
              "    <tr style=\"text-align: right;\">\n",
              "      <th></th>\n",
              "      <th>POSTED_BY</th>\n",
              "      <th>UNDER_CONSTRUCTION</th>\n",
              "      <th>RERA</th>\n",
              "      <th>BHK_NO.</th>\n",
              "      <th>BHK_OR_RK</th>\n",
              "      <th>SQUARE_FT</th>\n",
              "      <th>READY_TO_MOVE</th>\n",
              "      <th>RESALE</th>\n",
              "      <th>LONGITUDE</th>\n",
              "      <th>LATITUDE</th>\n",
              "      <th>TARGET(PRICE_IN_LACS)</th>\n",
              "    </tr>\n",
              "  </thead>\n",
              "  <tbody>\n",
              "    <tr>\n",
              "      <th>0</th>\n",
              "      <td>Owner</td>\n",
              "      <td>0</td>\n",
              "      <td>0</td>\n",
              "      <td>2</td>\n",
              "      <td>BHK</td>\n",
              "      <td>1300.236407</td>\n",
              "      <td>1</td>\n",
              "      <td>1</td>\n",
              "      <td>12.969910</td>\n",
              "      <td>77.597960</td>\n",
              "      <td>55.0</td>\n",
              "    </tr>\n",
              "    <tr>\n",
              "      <th>1</th>\n",
              "      <td>Dealer</td>\n",
              "      <td>0</td>\n",
              "      <td>0</td>\n",
              "      <td>2</td>\n",
              "      <td>BHK</td>\n",
              "      <td>1275.000000</td>\n",
              "      <td>1</td>\n",
              "      <td>1</td>\n",
              "      <td>12.274538</td>\n",
              "      <td>76.644605</td>\n",
              "      <td>51.0</td>\n",
              "    </tr>\n",
              "    <tr>\n",
              "      <th>2</th>\n",
              "      <td>Owner</td>\n",
              "      <td>0</td>\n",
              "      <td>0</td>\n",
              "      <td>2</td>\n",
              "      <td>BHK</td>\n",
              "      <td>933.159722</td>\n",
              "      <td>1</td>\n",
              "      <td>1</td>\n",
              "      <td>12.778033</td>\n",
              "      <td>77.632191</td>\n",
              "      <td>43.0</td>\n",
              "    </tr>\n",
              "    <tr>\n",
              "      <th>3</th>\n",
              "      <td>Owner</td>\n",
              "      <td>0</td>\n",
              "      <td>1</td>\n",
              "      <td>2</td>\n",
              "      <td>BHK</td>\n",
              "      <td>929.921143</td>\n",
              "      <td>1</td>\n",
              "      <td>1</td>\n",
              "      <td>28.642300</td>\n",
              "      <td>77.344500</td>\n",
              "      <td>62.5</td>\n",
              "    </tr>\n",
              "    <tr>\n",
              "      <th>4</th>\n",
              "      <td>Dealer</td>\n",
              "      <td>1</td>\n",
              "      <td>0</td>\n",
              "      <td>2</td>\n",
              "      <td>BHK</td>\n",
              "      <td>999.009247</td>\n",
              "      <td>0</td>\n",
              "      <td>1</td>\n",
              "      <td>22.592200</td>\n",
              "      <td>88.484911</td>\n",
              "      <td>60.5</td>\n",
              "    </tr>\n",
              "  </tbody>\n",
              "</table>\n",
              "</div>"
            ],
            "text/plain": [
              "  POSTED_BY  UNDER_CONSTRUCTION  ...   LATITUDE  TARGET(PRICE_IN_LACS)\n",
              "0     Owner                   0  ...  77.597960                   55.0\n",
              "1    Dealer                   0  ...  76.644605                   51.0\n",
              "2     Owner                   0  ...  77.632191                   43.0\n",
              "3     Owner                   0  ...  77.344500                   62.5\n",
              "4    Dealer                   1  ...  88.484911                   60.5\n",
              "\n",
              "[5 rows x 11 columns]"
            ]
          },
          "metadata": {
            "tags": []
          },
          "execution_count": 54
        }
      ]
    },
    {
      "cell_type": "code",
      "metadata": {
        "id": "Biqg0KrikZ-t"
      },
      "source": [
        "from sklearn.preprocessing import LabelEncoder"
      ],
      "execution_count": 55,
      "outputs": []
    },
    {
      "cell_type": "code",
      "metadata": {
        "id": "dd-pwn9Iksk2"
      },
      "source": [
        "enc = LabelEncoder()"
      ],
      "execution_count": 56,
      "outputs": []
    },
    {
      "cell_type": "code",
      "metadata": {
        "colab": {
          "base_uri": "https://localhost:8080/",
          "height": 419
        },
        "id": "y56xBvoTkwVe",
        "outputId": "04ca0ff3-1bb3-46fe-dee6-8bb39a43f6d1"
      },
      "source": [
        "dfle = df\n",
        "dfle.iloc[:,[0,4]]"
      ],
      "execution_count": 57,
      "outputs": [
        {
          "output_type": "execute_result",
          "data": {
            "text/html": [
              "<div>\n",
              "<style scoped>\n",
              "    .dataframe tbody tr th:only-of-type {\n",
              "        vertical-align: middle;\n",
              "    }\n",
              "\n",
              "    .dataframe tbody tr th {\n",
              "        vertical-align: top;\n",
              "    }\n",
              "\n",
              "    .dataframe thead th {\n",
              "        text-align: right;\n",
              "    }\n",
              "</style>\n",
              "<table border=\"1\" class=\"dataframe\">\n",
              "  <thead>\n",
              "    <tr style=\"text-align: right;\">\n",
              "      <th></th>\n",
              "      <th>POSTED_BY</th>\n",
              "      <th>BHK_OR_RK</th>\n",
              "    </tr>\n",
              "  </thead>\n",
              "  <tbody>\n",
              "    <tr>\n",
              "      <th>0</th>\n",
              "      <td>Owner</td>\n",
              "      <td>BHK</td>\n",
              "    </tr>\n",
              "    <tr>\n",
              "      <th>1</th>\n",
              "      <td>Dealer</td>\n",
              "      <td>BHK</td>\n",
              "    </tr>\n",
              "    <tr>\n",
              "      <th>2</th>\n",
              "      <td>Owner</td>\n",
              "      <td>BHK</td>\n",
              "    </tr>\n",
              "    <tr>\n",
              "      <th>3</th>\n",
              "      <td>Owner</td>\n",
              "      <td>BHK</td>\n",
              "    </tr>\n",
              "    <tr>\n",
              "      <th>4</th>\n",
              "      <td>Dealer</td>\n",
              "      <td>BHK</td>\n",
              "    </tr>\n",
              "    <tr>\n",
              "      <th>...</th>\n",
              "      <td>...</td>\n",
              "      <td>...</td>\n",
              "    </tr>\n",
              "    <tr>\n",
              "      <th>29446</th>\n",
              "      <td>Owner</td>\n",
              "      <td>BHK</td>\n",
              "    </tr>\n",
              "    <tr>\n",
              "      <th>29447</th>\n",
              "      <td>Owner</td>\n",
              "      <td>BHK</td>\n",
              "    </tr>\n",
              "    <tr>\n",
              "      <th>29448</th>\n",
              "      <td>Dealer</td>\n",
              "      <td>BHK</td>\n",
              "    </tr>\n",
              "    <tr>\n",
              "      <th>29449</th>\n",
              "      <td>Owner</td>\n",
              "      <td>BHK</td>\n",
              "    </tr>\n",
              "    <tr>\n",
              "      <th>29450</th>\n",
              "      <td>Dealer</td>\n",
              "      <td>BHK</td>\n",
              "    </tr>\n",
              "  </tbody>\n",
              "</table>\n",
              "<p>29451 rows × 2 columns</p>\n",
              "</div>"
            ],
            "text/plain": [
              "      POSTED_BY BHK_OR_RK\n",
              "0         Owner       BHK\n",
              "1        Dealer       BHK\n",
              "2         Owner       BHK\n",
              "3         Owner       BHK\n",
              "4        Dealer       BHK\n",
              "...         ...       ...\n",
              "29446     Owner       BHK\n",
              "29447     Owner       BHK\n",
              "29448    Dealer       BHK\n",
              "29449     Owner       BHK\n",
              "29450    Dealer       BHK\n",
              "\n",
              "[29451 rows x 2 columns]"
            ]
          },
          "metadata": {
            "tags": []
          },
          "execution_count": 57
        }
      ]
    },
    {
      "cell_type": "code",
      "metadata": {
        "colab": {
          "base_uri": "https://localhost:8080/"
        },
        "id": "9iXfk1K0mPyw",
        "outputId": "f6a1ea91-b912-4570-925e-0acfade5b588"
      },
      "source": [
        "objList = dfle.select_dtypes(include = \"object\").columns\n",
        "print (objList)"
      ],
      "execution_count": 58,
      "outputs": [
        {
          "output_type": "stream",
          "text": [
            "Index(['POSTED_BY', 'BHK_OR_RK'], dtype='object')\n"
          ],
          "name": "stdout"
        }
      ]
    },
    {
      "cell_type": "code",
      "metadata": {
        "colab": {
          "base_uri": "https://localhost:8080/"
        },
        "id": "lal1cJbLocYk",
        "outputId": "e3301cce-8405-48b4-ad5e-332f034ab49d"
      },
      "source": [
        "objList[:2]"
      ],
      "execution_count": 59,
      "outputs": [
        {
          "output_type": "execute_result",
          "data": {
            "text/plain": [
              "Index(['POSTED_BY', 'BHK_OR_RK'], dtype='object')"
            ]
          },
          "metadata": {
            "tags": []
          },
          "execution_count": 59
        }
      ]
    },
    {
      "cell_type": "code",
      "metadata": {
        "id": "lZiJvmJQnFFX"
      },
      "source": [
        "for feat in objList:\n",
        "    dfle[feat] = enc.fit_transform(dfle[feat].astype(str))"
      ],
      "execution_count": 60,
      "outputs": []
    },
    {
      "cell_type": "code",
      "metadata": {
        "colab": {
          "base_uri": "https://localhost:8080/"
        },
        "id": "DFZ1bA3YvV14",
        "outputId": "c36e2b98-a979-41fe-ff61-e35be8a287b3"
      },
      "source": [
        "from scipy import stats\n",
        "import numpy as np\n",
        "z = np.abs(stats.zscore(dfle))\n",
        "print(z)"
      ],
      "execution_count": 27,
      "outputs": [
        {
          "output_type": "stream",
          "text": [
            "[[1.28713168 0.46813431 0.68271456 ... 1.34247787 0.07201136 0.13381461]\n",
            " [0.65335028 0.46813431 0.68271456 ... 1.45454064 0.01828927 0.1399041 ]\n",
            " [1.28713168 0.46813431 0.68271456 ... 1.37339983 0.07525368 0.15208308]\n",
            " ...\n",
            " [0.65335028 0.46813431 0.68271456 ... 0.90706647 0.09563692 0.1762888 ]\n",
            " [1.28713168 0.46813431 0.68271456 ... 1.35372005 0.32111704 0.11554615]\n",
            " [0.65335028 0.46813431 1.464741   ... 0.89152595 0.09433482 0.17522314]]\n"
          ],
          "name": "stdout"
        }
      ]
    },
    {
      "cell_type": "code",
      "metadata": {
        "colab": {
          "base_uri": "https://localhost:8080/"
        },
        "id": "KunyKGQxvVup",
        "outputId": "47267bb6-f0e1-4739-9c6f-330c80797aa9"
      },
      "source": [
        "threshold =3\n",
        "print(np.where(z>3))"
      ],
      "execution_count": 28,
      "outputs": [
        {
          "output_type": "stream",
          "text": [
            "(array([   34,    40,    40, ..., 29440, 29447, 29447]), array([ 7,  7, 10, ...,  7,  8,  9]))\n"
          ],
          "name": "stdout"
        }
      ]
    },
    {
      "cell_type": "code",
      "metadata": {
        "id": "QIa4FzoKzD5b"
      },
      "source": [
        ""
      ],
      "execution_count": null,
      "outputs": []
    },
    {
      "cell_type": "code",
      "metadata": {
        "colab": {
          "base_uri": "https://localhost:8080/",
          "height": 224
        },
        "id": "GcYCa_53ncn3",
        "outputId": "2f1c658a-b544-492d-993e-e7ec7cc8eb89"
      },
      "source": [
        "dfle.tail()"
      ],
      "execution_count": 61,
      "outputs": [
        {
          "output_type": "execute_result",
          "data": {
            "text/html": [
              "<div>\n",
              "<style scoped>\n",
              "    .dataframe tbody tr th:only-of-type {\n",
              "        vertical-align: middle;\n",
              "    }\n",
              "\n",
              "    .dataframe tbody tr th {\n",
              "        vertical-align: top;\n",
              "    }\n",
              "\n",
              "    .dataframe thead th {\n",
              "        text-align: right;\n",
              "    }\n",
              "</style>\n",
              "<table border=\"1\" class=\"dataframe\">\n",
              "  <thead>\n",
              "    <tr style=\"text-align: right;\">\n",
              "      <th></th>\n",
              "      <th>POSTED_BY</th>\n",
              "      <th>UNDER_CONSTRUCTION</th>\n",
              "      <th>RERA</th>\n",
              "      <th>BHK_NO.</th>\n",
              "      <th>BHK_OR_RK</th>\n",
              "      <th>SQUARE_FT</th>\n",
              "      <th>READY_TO_MOVE</th>\n",
              "      <th>RESALE</th>\n",
              "      <th>LONGITUDE</th>\n",
              "      <th>LATITUDE</th>\n",
              "      <th>TARGET(PRICE_IN_LACS)</th>\n",
              "    </tr>\n",
              "  </thead>\n",
              "  <tbody>\n",
              "    <tr>\n",
              "      <th>29446</th>\n",
              "      <td>2</td>\n",
              "      <td>0</td>\n",
              "      <td>0</td>\n",
              "      <td>3</td>\n",
              "      <td>0</td>\n",
              "      <td>2500.000000</td>\n",
              "      <td>1</td>\n",
              "      <td>1</td>\n",
              "      <td>27.140626</td>\n",
              "      <td>78.043277</td>\n",
              "      <td>45.0</td>\n",
              "    </tr>\n",
              "    <tr>\n",
              "      <th>29447</th>\n",
              "      <td>2</td>\n",
              "      <td>0</td>\n",
              "      <td>0</td>\n",
              "      <td>2</td>\n",
              "      <td>0</td>\n",
              "      <td>769.230769</td>\n",
              "      <td>1</td>\n",
              "      <td>1</td>\n",
              "      <td>39.945409</td>\n",
              "      <td>-86.150721</td>\n",
              "      <td>16.0</td>\n",
              "    </tr>\n",
              "    <tr>\n",
              "      <th>29448</th>\n",
              "      <td>1</td>\n",
              "      <td>0</td>\n",
              "      <td>0</td>\n",
              "      <td>2</td>\n",
              "      <td>0</td>\n",
              "      <td>1022.641509</td>\n",
              "      <td>1</td>\n",
              "      <td>1</td>\n",
              "      <td>26.928785</td>\n",
              "      <td>75.828002</td>\n",
              "      <td>27.1</td>\n",
              "    </tr>\n",
              "    <tr>\n",
              "      <th>29449</th>\n",
              "      <td>2</td>\n",
              "      <td>0</td>\n",
              "      <td>0</td>\n",
              "      <td>2</td>\n",
              "      <td>0</td>\n",
              "      <td>927.079009</td>\n",
              "      <td>1</td>\n",
              "      <td>1</td>\n",
              "      <td>12.900150</td>\n",
              "      <td>80.227910</td>\n",
              "      <td>67.0</td>\n",
              "    </tr>\n",
              "    <tr>\n",
              "      <th>29450</th>\n",
              "      <td>1</td>\n",
              "      <td>0</td>\n",
              "      <td>1</td>\n",
              "      <td>2</td>\n",
              "      <td>0</td>\n",
              "      <td>896.774194</td>\n",
              "      <td>1</td>\n",
              "      <td>1</td>\n",
              "      <td>26.832353</td>\n",
              "      <td>75.841749</td>\n",
              "      <td>27.8</td>\n",
              "    </tr>\n",
              "  </tbody>\n",
              "</table>\n",
              "</div>"
            ],
            "text/plain": [
              "       POSTED_BY  UNDER_CONSTRUCTION  ...   LATITUDE  TARGET(PRICE_IN_LACS)\n",
              "29446          2                   0  ...  78.043277                   45.0\n",
              "29447          2                   0  ... -86.150721                   16.0\n",
              "29448          1                   0  ...  75.828002                   27.1\n",
              "29449          2                   0  ...  80.227910                   67.0\n",
              "29450          1                   0  ...  75.841749                   27.8\n",
              "\n",
              "[5 rows x 11 columns]"
            ]
          },
          "metadata": {
            "tags": []
          },
          "execution_count": 61
        }
      ]
    },
    {
      "cell_type": "code",
      "metadata": {
        "id": "yRNSjnVCoxXX"
      },
      "source": [
        "from sklearn.preprocessing import StandardScaler"
      ],
      "execution_count": 14,
      "outputs": []
    },
    {
      "cell_type": "code",
      "metadata": {
        "id": "RltM9JGe71xO"
      },
      "source": [
        "from sklearn.preprocessing import StandardScaler"
      ],
      "execution_count": null,
      "outputs": []
    },
    {
      "cell_type": "code",
      "metadata": {
        "id": "AL4xaQdKWNd5"
      },
      "source": [
        "from sklearn.model_selection import train_test_split"
      ],
      "execution_count": 15,
      "outputs": []
    },
    {
      "cell_type": "code",
      "metadata": {
        "id": "M4l3FQtVo2bH"
      },
      "source": [
        "X_train,X_test,Y_train,Y_test = train_test_split(dfle.iloc[:,:-1],dfle.iloc[:,-1:],test_size=0.2,random_state=101)"
      ],
      "execution_count": 16,
      "outputs": []
    },
    {
      "cell_type": "code",
      "metadata": {
        "id": "c-2fG1mySlcv"
      },
      "source": [
        "from sklearn.preprocessing import StandardScaler"
      ],
      "execution_count": 17,
      "outputs": []
    },
    {
      "cell_type": "code",
      "metadata": {
        "id": "Hu2a6KwnS7Ev"
      },
      "source": [
        "scaler= StandardScaler()\n",
        "x_train = scaler.fit_transform(X_train)"
      ],
      "execution_count": 18,
      "outputs": []
    },
    {
      "cell_type": "code",
      "metadata": {
        "colab": {
          "base_uri": "https://localhost:8080/",
          "height": 317
        },
        "id": "xlOHFqlhxaMy",
        "outputId": "a446c17f-eb88-44f8-8025-b8d779fbf39f"
      },
      "source": [
        "dfle.describe()"
      ],
      "execution_count": 40,
      "outputs": [
        {
          "output_type": "execute_result",
          "data": {
            "text/html": [
              "<div>\n",
              "<style scoped>\n",
              "    .dataframe tbody tr th:only-of-type {\n",
              "        vertical-align: middle;\n",
              "    }\n",
              "\n",
              "    .dataframe tbody tr th {\n",
              "        vertical-align: top;\n",
              "    }\n",
              "\n",
              "    .dataframe thead th {\n",
              "        text-align: right;\n",
              "    }\n",
              "</style>\n",
              "<table border=\"1\" class=\"dataframe\">\n",
              "  <thead>\n",
              "    <tr style=\"text-align: right;\">\n",
              "      <th></th>\n",
              "      <th>POSTED_BY</th>\n",
              "      <th>UNDER_CONSTRUCTION</th>\n",
              "      <th>RERA</th>\n",
              "      <th>BHK_NO.</th>\n",
              "      <th>BHK_OR_RK</th>\n",
              "      <th>SQUARE_FT</th>\n",
              "      <th>READY_TO_MOVE</th>\n",
              "      <th>RESALE</th>\n",
              "      <th>LONGITUDE</th>\n",
              "      <th>LATITUDE</th>\n",
              "      <th>TARGET(PRICE_IN_LACS)</th>\n",
              "    </tr>\n",
              "  </thead>\n",
              "  <tbody>\n",
              "    <tr>\n",
              "      <th>count</th>\n",
              "      <td>29451.000000</td>\n",
              "      <td>29451.000000</td>\n",
              "      <td>29451.000000</td>\n",
              "      <td>29451.000000</td>\n",
              "      <td>29451.000000</td>\n",
              "      <td>2.945100e+04</td>\n",
              "      <td>29451.000000</td>\n",
              "      <td>29451.000000</td>\n",
              "      <td>29451.000000</td>\n",
              "      <td>29451.000000</td>\n",
              "      <td>29451.000000</td>\n",
              "    </tr>\n",
              "    <tr>\n",
              "      <th>mean</th>\n",
              "      <td>1.336695</td>\n",
              "      <td>0.179756</td>\n",
              "      <td>0.317918</td>\n",
              "      <td>2.392279</td>\n",
              "      <td>0.000815</td>\n",
              "      <td>1.980217e+04</td>\n",
              "      <td>0.820244</td>\n",
              "      <td>0.929578</td>\n",
              "      <td>21.300255</td>\n",
              "      <td>76.837695</td>\n",
              "      <td>142.898746</td>\n",
              "    </tr>\n",
              "    <tr>\n",
              "      <th>std</th>\n",
              "      <td>0.515345</td>\n",
              "      <td>0.383991</td>\n",
              "      <td>0.465675</td>\n",
              "      <td>0.879091</td>\n",
              "      <td>0.028536</td>\n",
              "      <td>1.901335e+06</td>\n",
              "      <td>0.383991</td>\n",
              "      <td>0.255861</td>\n",
              "      <td>6.205306</td>\n",
              "      <td>10.557747</td>\n",
              "      <td>656.880713</td>\n",
              "    </tr>\n",
              "    <tr>\n",
              "      <th>min</th>\n",
              "      <td>0.000000</td>\n",
              "      <td>0.000000</td>\n",
              "      <td>0.000000</td>\n",
              "      <td>1.000000</td>\n",
              "      <td>0.000000</td>\n",
              "      <td>3.000000e+00</td>\n",
              "      <td>0.000000</td>\n",
              "      <td>0.000000</td>\n",
              "      <td>-37.713008</td>\n",
              "      <td>-121.761248</td>\n",
              "      <td>0.250000</td>\n",
              "    </tr>\n",
              "    <tr>\n",
              "      <th>25%</th>\n",
              "      <td>1.000000</td>\n",
              "      <td>0.000000</td>\n",
              "      <td>0.000000</td>\n",
              "      <td>2.000000</td>\n",
              "      <td>0.000000</td>\n",
              "      <td>9.000211e+02</td>\n",
              "      <td>1.000000</td>\n",
              "      <td>1.000000</td>\n",
              "      <td>18.452663</td>\n",
              "      <td>73.798100</td>\n",
              "      <td>38.000000</td>\n",
              "    </tr>\n",
              "    <tr>\n",
              "      <th>50%</th>\n",
              "      <td>1.000000</td>\n",
              "      <td>0.000000</td>\n",
              "      <td>0.000000</td>\n",
              "      <td>2.000000</td>\n",
              "      <td>0.000000</td>\n",
              "      <td>1.175057e+03</td>\n",
              "      <td>1.000000</td>\n",
              "      <td>1.000000</td>\n",
              "      <td>20.750000</td>\n",
              "      <td>77.324137</td>\n",
              "      <td>62.000000</td>\n",
              "    </tr>\n",
              "    <tr>\n",
              "      <th>75%</th>\n",
              "      <td>2.000000</td>\n",
              "      <td>0.000000</td>\n",
              "      <td>1.000000</td>\n",
              "      <td>3.000000</td>\n",
              "      <td>0.000000</td>\n",
              "      <td>1.550688e+03</td>\n",
              "      <td>1.000000</td>\n",
              "      <td>1.000000</td>\n",
              "      <td>26.900926</td>\n",
              "      <td>77.828740</td>\n",
              "      <td>100.000000</td>\n",
              "    </tr>\n",
              "    <tr>\n",
              "      <th>max</th>\n",
              "      <td>2.000000</td>\n",
              "      <td>1.000000</td>\n",
              "      <td>1.000000</td>\n",
              "      <td>20.000000</td>\n",
              "      <td>1.000000</td>\n",
              "      <td>2.545455e+08</td>\n",
              "      <td>1.000000</td>\n",
              "      <td>1.000000</td>\n",
              "      <td>59.912884</td>\n",
              "      <td>152.962676</td>\n",
              "      <td>30000.000000</td>\n",
              "    </tr>\n",
              "  </tbody>\n",
              "</table>\n",
              "</div>"
            ],
            "text/plain": [
              "          POSTED_BY  UNDER_CONSTRUCTION  ...      LATITUDE  TARGET(PRICE_IN_LACS)\n",
              "count  29451.000000        29451.000000  ...  29451.000000           29451.000000\n",
              "mean       1.336695            0.179756  ...     76.837695             142.898746\n",
              "std        0.515345            0.383991  ...     10.557747             656.880713\n",
              "min        0.000000            0.000000  ...   -121.761248               0.250000\n",
              "25%        1.000000            0.000000  ...     73.798100              38.000000\n",
              "50%        1.000000            0.000000  ...     77.324137              62.000000\n",
              "75%        2.000000            0.000000  ...     77.828740             100.000000\n",
              "max        2.000000            1.000000  ...    152.962676           30000.000000\n",
              "\n",
              "[8 rows x 11 columns]"
            ]
          },
          "metadata": {
            "tags": []
          },
          "execution_count": 40
        }
      ]
    },
    {
      "cell_type": "code",
      "metadata": {
        "id": "Qj7aWijW6da1"
      },
      "source": [
        "dfle = dfle.rename(columns={\"TARGET(PRICE_IN_LACS)\":\"Target\"})"
      ],
      "execution_count": 42,
      "outputs": []
    },
    {
      "cell_type": "code",
      "metadata": {
        "colab": {
          "base_uri": "https://localhost:8080/"
        },
        "id": "wYTfLory4sLV",
        "outputId": "4b834f8d-3ea1-42ac-a99c-3ae125267020"
      },
      "source": [
        "min_thresold, max_thresold = dfle.Target.quantile([0.001, 0.999])\n",
        "min_thresold, max_thresold"
      ],
      "execution_count": 43,
      "outputs": [
        {
          "output_type": "execute_result",
          "data": {
            "text/plain": [
              "(5.59, 9512.650000000067)"
            ]
          },
          "metadata": {
            "tags": []
          },
          "execution_count": 43
        }
      ]
    },
    {
      "cell_type": "code",
      "metadata": {
        "colab": {
          "base_uri": "https://localhost:8080/",
          "height": 999
        },
        "id": "n8_wsl3H4sE0",
        "outputId": "dfb38854-939a-4269-bd86-f386fe3a19e3"
      },
      "source": [
        "dfle[dfle.Target < min_thresold]"
      ],
      "execution_count": 44,
      "outputs": [
        {
          "output_type": "execute_result",
          "data": {
            "text/html": [
              "<div>\n",
              "<style scoped>\n",
              "    .dataframe tbody tr th:only-of-type {\n",
              "        vertical-align: middle;\n",
              "    }\n",
              "\n",
              "    .dataframe tbody tr th {\n",
              "        vertical-align: top;\n",
              "    }\n",
              "\n",
              "    .dataframe thead th {\n",
              "        text-align: right;\n",
              "    }\n",
              "</style>\n",
              "<table border=\"1\" class=\"dataframe\">\n",
              "  <thead>\n",
              "    <tr style=\"text-align: right;\">\n",
              "      <th></th>\n",
              "      <th>POSTED_BY</th>\n",
              "      <th>UNDER_CONSTRUCTION</th>\n",
              "      <th>RERA</th>\n",
              "      <th>BHK_NO.</th>\n",
              "      <th>BHK_OR_RK</th>\n",
              "      <th>SQUARE_FT</th>\n",
              "      <th>READY_TO_MOVE</th>\n",
              "      <th>RESALE</th>\n",
              "      <th>LONGITUDE</th>\n",
              "      <th>LATITUDE</th>\n",
              "      <th>Target</th>\n",
              "    </tr>\n",
              "  </thead>\n",
              "  <tbody>\n",
              "    <tr>\n",
              "      <th>3882</th>\n",
              "      <td>2</td>\n",
              "      <td>0</td>\n",
              "      <td>0</td>\n",
              "      <td>10</td>\n",
              "      <td>0</td>\n",
              "      <td>42500.000000</td>\n",
              "      <td>1</td>\n",
              "      <td>1</td>\n",
              "      <td>12.720000</td>\n",
              "      <td>77.820000</td>\n",
              "      <td>0.85</td>\n",
              "    </tr>\n",
              "    <tr>\n",
              "      <th>8347</th>\n",
              "      <td>2</td>\n",
              "      <td>0</td>\n",
              "      <td>1</td>\n",
              "      <td>3</td>\n",
              "      <td>0</td>\n",
              "      <td>1333.333333</td>\n",
              "      <td>1</td>\n",
              "      <td>1</td>\n",
              "      <td>22.288976</td>\n",
              "      <td>73.128222</td>\n",
              "      <td>1.00</td>\n",
              "    </tr>\n",
              "    <tr>\n",
              "      <th>8435</th>\n",
              "      <td>2</td>\n",
              "      <td>0</td>\n",
              "      <td>0</td>\n",
              "      <td>1</td>\n",
              "      <td>0</td>\n",
              "      <td>296.969697</td>\n",
              "      <td>1</td>\n",
              "      <td>1</td>\n",
              "      <td>21.000000</td>\n",
              "      <td>77.000000</td>\n",
              "      <td>4.90</td>\n",
              "    </tr>\n",
              "    <tr>\n",
              "      <th>10177</th>\n",
              "      <td>2</td>\n",
              "      <td>0</td>\n",
              "      <td>0</td>\n",
              "      <td>1</td>\n",
              "      <td>0</td>\n",
              "      <td>700.280112</td>\n",
              "      <td>1</td>\n",
              "      <td>1</td>\n",
              "      <td>28.468976</td>\n",
              "      <td>77.026401</td>\n",
              "      <td>5.00</td>\n",
              "    </tr>\n",
              "    <tr>\n",
              "      <th>10678</th>\n",
              "      <td>2</td>\n",
              "      <td>0</td>\n",
              "      <td>0</td>\n",
              "      <td>1</td>\n",
              "      <td>0</td>\n",
              "      <td>900.900901</td>\n",
              "      <td>1</td>\n",
              "      <td>1</td>\n",
              "      <td>21.778398</td>\n",
              "      <td>72.171336</td>\n",
              "      <td>5.00</td>\n",
              "    </tr>\n",
              "    <tr>\n",
              "      <th>11530</th>\n",
              "      <td>2</td>\n",
              "      <td>0</td>\n",
              "      <td>0</td>\n",
              "      <td>1</td>\n",
              "      <td>0</td>\n",
              "      <td>350.095481</td>\n",
              "      <td>1</td>\n",
              "      <td>1</td>\n",
              "      <td>26.928785</td>\n",
              "      <td>75.828002</td>\n",
              "      <td>5.50</td>\n",
              "    </tr>\n",
              "    <tr>\n",
              "      <th>11729</th>\n",
              "      <td>2</td>\n",
              "      <td>0</td>\n",
              "      <td>0</td>\n",
              "      <td>1</td>\n",
              "      <td>0</td>\n",
              "      <td>495.238095</td>\n",
              "      <td>1</td>\n",
              "      <td>1</td>\n",
              "      <td>58.691753</td>\n",
              "      <td>-117.001699</td>\n",
              "      <td>5.20</td>\n",
              "    </tr>\n",
              "    <tr>\n",
              "      <th>14036</th>\n",
              "      <td>2</td>\n",
              "      <td>0</td>\n",
              "      <td>0</td>\n",
              "      <td>3</td>\n",
              "      <td>0</td>\n",
              "      <td>1923.076923</td>\n",
              "      <td>1</td>\n",
              "      <td>1</td>\n",
              "      <td>20.282380</td>\n",
              "      <td>85.855363</td>\n",
              "      <td>0.25</td>\n",
              "    </tr>\n",
              "    <tr>\n",
              "      <th>15314</th>\n",
              "      <td>2</td>\n",
              "      <td>0</td>\n",
              "      <td>0</td>\n",
              "      <td>1</td>\n",
              "      <td>0</td>\n",
              "      <td>425.079702</td>\n",
              "      <td>1</td>\n",
              "      <td>1</td>\n",
              "      <td>31.214709</td>\n",
              "      <td>75.766473</td>\n",
              "      <td>4.00</td>\n",
              "    </tr>\n",
              "    <tr>\n",
              "      <th>15544</th>\n",
              "      <td>2</td>\n",
              "      <td>0</td>\n",
              "      <td>0</td>\n",
              "      <td>1</td>\n",
              "      <td>0</td>\n",
              "      <td>225.022502</td>\n",
              "      <td>1</td>\n",
              "      <td>1</td>\n",
              "      <td>21.168064</td>\n",
              "      <td>72.877148</td>\n",
              "      <td>5.00</td>\n",
              "    </tr>\n",
              "    <tr>\n",
              "      <th>16255</th>\n",
              "      <td>1</td>\n",
              "      <td>0</td>\n",
              "      <td>0</td>\n",
              "      <td>1</td>\n",
              "      <td>0</td>\n",
              "      <td>612.244898</td>\n",
              "      <td>1</td>\n",
              "      <td>1</td>\n",
              "      <td>22.490000</td>\n",
              "      <td>72.660000</td>\n",
              "      <td>3.90</td>\n",
              "    </tr>\n",
              "    <tr>\n",
              "      <th>16977</th>\n",
              "      <td>2</td>\n",
              "      <td>0</td>\n",
              "      <td>0</td>\n",
              "      <td>1</td>\n",
              "      <td>0</td>\n",
              "      <td>354.924578</td>\n",
              "      <td>1</td>\n",
              "      <td>1</td>\n",
              "      <td>20.579189</td>\n",
              "      <td>73.747096</td>\n",
              "      <td>4.00</td>\n",
              "    </tr>\n",
              "    <tr>\n",
              "      <th>17527</th>\n",
              "      <td>1</td>\n",
              "      <td>0</td>\n",
              "      <td>0</td>\n",
              "      <td>3</td>\n",
              "      <td>0</td>\n",
              "      <td>1830.985915</td>\n",
              "      <td>1</td>\n",
              "      <td>1</td>\n",
              "      <td>13.035200</td>\n",
              "      <td>77.577200</td>\n",
              "      <td>1.30</td>\n",
              "    </tr>\n",
              "    <tr>\n",
              "      <th>18350</th>\n",
              "      <td>1</td>\n",
              "      <td>0</td>\n",
              "      <td>1</td>\n",
              "      <td>1</td>\n",
              "      <td>0</td>\n",
              "      <td>225.563910</td>\n",
              "      <td>1</td>\n",
              "      <td>0</td>\n",
              "      <td>26.707154</td>\n",
              "      <td>80.982346</td>\n",
              "      <td>4.50</td>\n",
              "    </tr>\n",
              "    <tr>\n",
              "      <th>18565</th>\n",
              "      <td>1</td>\n",
              "      <td>0</td>\n",
              "      <td>0</td>\n",
              "      <td>1</td>\n",
              "      <td>0</td>\n",
              "      <td>376.749193</td>\n",
              "      <td>1</td>\n",
              "      <td>1</td>\n",
              "      <td>28.707966</td>\n",
              "      <td>77.487603</td>\n",
              "      <td>3.50</td>\n",
              "    </tr>\n",
              "    <tr>\n",
              "      <th>18773</th>\n",
              "      <td>2</td>\n",
              "      <td>0</td>\n",
              "      <td>0</td>\n",
              "      <td>1</td>\n",
              "      <td>0</td>\n",
              "      <td>584.795322</td>\n",
              "      <td>1</td>\n",
              "      <td>1</td>\n",
              "      <td>23.050157</td>\n",
              "      <td>70.122999</td>\n",
              "      <td>5.00</td>\n",
              "    </tr>\n",
              "    <tr>\n",
              "      <th>19391</th>\n",
              "      <td>1</td>\n",
              "      <td>0</td>\n",
              "      <td>0</td>\n",
              "      <td>1</td>\n",
              "      <td>0</td>\n",
              "      <td>292.850991</td>\n",
              "      <td>1</td>\n",
              "      <td>1</td>\n",
              "      <td>21.445354</td>\n",
              "      <td>70.910024</td>\n",
              "      <td>3.40</td>\n",
              "    </tr>\n",
              "    <tr>\n",
              "      <th>20434</th>\n",
              "      <td>0</td>\n",
              "      <td>1</td>\n",
              "      <td>1</td>\n",
              "      <td>1</td>\n",
              "      <td>0</td>\n",
              "      <td>90.252708</td>\n",
              "      <td>0</td>\n",
              "      <td>0</td>\n",
              "      <td>18.454300</td>\n",
              "      <td>73.114700</td>\n",
              "      <td>2.00</td>\n",
              "    </tr>\n",
              "    <tr>\n",
              "      <th>20910</th>\n",
              "      <td>1</td>\n",
              "      <td>1</td>\n",
              "      <td>0</td>\n",
              "      <td>2</td>\n",
              "      <td>0</td>\n",
              "      <td>1500.000000</td>\n",
              "      <td>0</td>\n",
              "      <td>1</td>\n",
              "      <td>12.971321</td>\n",
              "      <td>77.598190</td>\n",
              "      <td>0.48</td>\n",
              "    </tr>\n",
              "    <tr>\n",
              "      <th>21416</th>\n",
              "      <td>1</td>\n",
              "      <td>0</td>\n",
              "      <td>1</td>\n",
              "      <td>1</td>\n",
              "      <td>0</td>\n",
              "      <td>225.563910</td>\n",
              "      <td>1</td>\n",
              "      <td>0</td>\n",
              "      <td>26.707154</td>\n",
              "      <td>80.982346</td>\n",
              "      <td>4.50</td>\n",
              "    </tr>\n",
              "    <tr>\n",
              "      <th>22668</th>\n",
              "      <td>2</td>\n",
              "      <td>0</td>\n",
              "      <td>0</td>\n",
              "      <td>1</td>\n",
              "      <td>0</td>\n",
              "      <td>339.805825</td>\n",
              "      <td>1</td>\n",
              "      <td>1</td>\n",
              "      <td>23.244599</td>\n",
              "      <td>87.083680</td>\n",
              "      <td>4.90</td>\n",
              "    </tr>\n",
              "    <tr>\n",
              "      <th>24424</th>\n",
              "      <td>0</td>\n",
              "      <td>0</td>\n",
              "      <td>0</td>\n",
              "      <td>3</td>\n",
              "      <td>0</td>\n",
              "      <td>753.846154</td>\n",
              "      <td>1</td>\n",
              "      <td>0</td>\n",
              "      <td>18.963700</td>\n",
              "      <td>72.931400</td>\n",
              "      <td>4.90</td>\n",
              "    </tr>\n",
              "    <tr>\n",
              "      <th>25078</th>\n",
              "      <td>2</td>\n",
              "      <td>0</td>\n",
              "      <td>0</td>\n",
              "      <td>1</td>\n",
              "      <td>0</td>\n",
              "      <td>465.116279</td>\n",
              "      <td>1</td>\n",
              "      <td>1</td>\n",
              "      <td>31.376481</td>\n",
              "      <td>75.538800</td>\n",
              "      <td>5.00</td>\n",
              "    </tr>\n",
              "    <tr>\n",
              "      <th>25582</th>\n",
              "      <td>2</td>\n",
              "      <td>0</td>\n",
              "      <td>0</td>\n",
              "      <td>1</td>\n",
              "      <td>0</td>\n",
              "      <td>400.000000</td>\n",
              "      <td>1</td>\n",
              "      <td>1</td>\n",
              "      <td>25.025959</td>\n",
              "      <td>75.873414</td>\n",
              "      <td>5.00</td>\n",
              "    </tr>\n",
              "    <tr>\n",
              "      <th>27192</th>\n",
              "      <td>2</td>\n",
              "      <td>0</td>\n",
              "      <td>0</td>\n",
              "      <td>3</td>\n",
              "      <td>0</td>\n",
              "      <td>1526.315789</td>\n",
              "      <td>1</td>\n",
              "      <td>1</td>\n",
              "      <td>11.023232</td>\n",
              "      <td>76.979607</td>\n",
              "      <td>0.29</td>\n",
              "    </tr>\n",
              "    <tr>\n",
              "      <th>27339</th>\n",
              "      <td>1</td>\n",
              "      <td>0</td>\n",
              "      <td>0</td>\n",
              "      <td>1</td>\n",
              "      <td>0</td>\n",
              "      <td>611.620795</td>\n",
              "      <td>1</td>\n",
              "      <td>1</td>\n",
              "      <td>22.490000</td>\n",
              "      <td>72.660000</td>\n",
              "      <td>4.00</td>\n",
              "    </tr>\n",
              "    <tr>\n",
              "      <th>27895</th>\n",
              "      <td>2</td>\n",
              "      <td>0</td>\n",
              "      <td>1</td>\n",
              "      <td>1</td>\n",
              "      <td>0</td>\n",
              "      <td>612.244898</td>\n",
              "      <td>1</td>\n",
              "      <td>1</td>\n",
              "      <td>20.486943</td>\n",
              "      <td>75.724278</td>\n",
              "      <td>1.50</td>\n",
              "    </tr>\n",
              "    <tr>\n",
              "      <th>28366</th>\n",
              "      <td>1</td>\n",
              "      <td>0</td>\n",
              "      <td>1</td>\n",
              "      <td>1</td>\n",
              "      <td>0</td>\n",
              "      <td>225.563910</td>\n",
              "      <td>1</td>\n",
              "      <td>0</td>\n",
              "      <td>26.707154</td>\n",
              "      <td>80.982346</td>\n",
              "      <td>4.50</td>\n",
              "    </tr>\n",
              "    <tr>\n",
              "      <th>28690</th>\n",
              "      <td>1</td>\n",
              "      <td>0</td>\n",
              "      <td>0</td>\n",
              "      <td>2</td>\n",
              "      <td>0</td>\n",
              "      <td>1000.000000</td>\n",
              "      <td>1</td>\n",
              "      <td>1</td>\n",
              "      <td>24.690280</td>\n",
              "      <td>78.418890</td>\n",
              "      <td>3.50</td>\n",
              "    </tr>\n",
              "    <tr>\n",
              "      <th>29308</th>\n",
              "      <td>0</td>\n",
              "      <td>1</td>\n",
              "      <td>1</td>\n",
              "      <td>1</td>\n",
              "      <td>0</td>\n",
              "      <td>90.252708</td>\n",
              "      <td>0</td>\n",
              "      <td>0</td>\n",
              "      <td>18.454300</td>\n",
              "      <td>73.114700</td>\n",
              "      <td>2.00</td>\n",
              "    </tr>\n",
              "  </tbody>\n",
              "</table>\n",
              "</div>"
            ],
            "text/plain": [
              "       POSTED_BY  UNDER_CONSTRUCTION  RERA  ...  LONGITUDE    LATITUDE  Target\n",
              "3882           2                   0     0  ...  12.720000   77.820000    0.85\n",
              "8347           2                   0     1  ...  22.288976   73.128222    1.00\n",
              "8435           2                   0     0  ...  21.000000   77.000000    4.90\n",
              "10177          2                   0     0  ...  28.468976   77.026401    5.00\n",
              "10678          2                   0     0  ...  21.778398   72.171336    5.00\n",
              "11530          2                   0     0  ...  26.928785   75.828002    5.50\n",
              "11729          2                   0     0  ...  58.691753 -117.001699    5.20\n",
              "14036          2                   0     0  ...  20.282380   85.855363    0.25\n",
              "15314          2                   0     0  ...  31.214709   75.766473    4.00\n",
              "15544          2                   0     0  ...  21.168064   72.877148    5.00\n",
              "16255          1                   0     0  ...  22.490000   72.660000    3.90\n",
              "16977          2                   0     0  ...  20.579189   73.747096    4.00\n",
              "17527          1                   0     0  ...  13.035200   77.577200    1.30\n",
              "18350          1                   0     1  ...  26.707154   80.982346    4.50\n",
              "18565          1                   0     0  ...  28.707966   77.487603    3.50\n",
              "18773          2                   0     0  ...  23.050157   70.122999    5.00\n",
              "19391          1                   0     0  ...  21.445354   70.910024    3.40\n",
              "20434          0                   1     1  ...  18.454300   73.114700    2.00\n",
              "20910          1                   1     0  ...  12.971321   77.598190    0.48\n",
              "21416          1                   0     1  ...  26.707154   80.982346    4.50\n",
              "22668          2                   0     0  ...  23.244599   87.083680    4.90\n",
              "24424          0                   0     0  ...  18.963700   72.931400    4.90\n",
              "25078          2                   0     0  ...  31.376481   75.538800    5.00\n",
              "25582          2                   0     0  ...  25.025959   75.873414    5.00\n",
              "27192          2                   0     0  ...  11.023232   76.979607    0.29\n",
              "27339          1                   0     0  ...  22.490000   72.660000    4.00\n",
              "27895          2                   0     1  ...  20.486943   75.724278    1.50\n",
              "28366          1                   0     1  ...  26.707154   80.982346    4.50\n",
              "28690          1                   0     0  ...  24.690280   78.418890    3.50\n",
              "29308          0                   1     1  ...  18.454300   73.114700    2.00\n",
              "\n",
              "[30 rows x 11 columns]"
            ]
          },
          "metadata": {
            "tags": []
          },
          "execution_count": 44
        }
      ]
    },
    {
      "cell_type": "code",
      "metadata": {
        "colab": {
          "base_uri": "https://localhost:8080/",
          "height": 69
        },
        "id": "1_c3_H7C4r7F",
        "outputId": "bdea24ad-95a3-431b-e445-af92f3af6de4"
      },
      "source": [
        "dfle[dfle.Target > max_thresold]"
      ],
      "execution_count": 50,
      "outputs": [
        {
          "output_type": "execute_result",
          "data": {
            "text/html": [
              "<div>\n",
              "<style scoped>\n",
              "    .dataframe tbody tr th:only-of-type {\n",
              "        vertical-align: middle;\n",
              "    }\n",
              "\n",
              "    .dataframe tbody tr th {\n",
              "        vertical-align: top;\n",
              "    }\n",
              "\n",
              "    .dataframe thead th {\n",
              "        text-align: right;\n",
              "    }\n",
              "</style>\n",
              "<table border=\"1\" class=\"dataframe\">\n",
              "  <thead>\n",
              "    <tr style=\"text-align: right;\">\n",
              "      <th></th>\n",
              "      <th>POSTED_BY</th>\n",
              "      <th>UNDER_CONSTRUCTION</th>\n",
              "      <th>RERA</th>\n",
              "      <th>BHK_NO.</th>\n",
              "      <th>BHK_OR_RK</th>\n",
              "      <th>SQUARE_FT</th>\n",
              "      <th>READY_TO_MOVE</th>\n",
              "      <th>RESALE</th>\n",
              "      <th>LONGITUDE</th>\n",
              "      <th>LATITUDE</th>\n",
              "      <th>Target</th>\n",
              "    </tr>\n",
              "  </thead>\n",
              "  <tbody>\n",
              "  </tbody>\n",
              "</table>\n",
              "</div>"
            ],
            "text/plain": [
              "Empty DataFrame\n",
              "Columns: [POSTED_BY, UNDER_CONSTRUCTION, RERA, BHK_NO., BHK_OR_RK, SQUARE_FT, READY_TO_MOVE, RESALE, LONGITUDE, LATITUDE, Target]\n",
              "Index: []"
            ]
          },
          "metadata": {
            "tags": []
          },
          "execution_count": 50
        }
      ]
    },
    {
      "cell_type": "code",
      "metadata": {
        "id": "Sm2skL7S6_tt"
      },
      "source": [
        "dfle = dfle[(dfle.Target > max_thresold)&(dfle.Target < min_thresold)]"
      ],
      "execution_count": 47,
      "outputs": []
    },
    {
      "cell_type": "code",
      "metadata": {
        "colab": {
          "base_uri": "https://localhost:8080/",
          "height": 69
        },
        "id": "6nsh6hXW7v11",
        "outputId": "b43f83af-bce4-45ef-ae65-8afbcc904b5f"
      },
      "source": [
        "dfle.head(5)"
      ],
      "execution_count": 49,
      "outputs": [
        {
          "output_type": "execute_result",
          "data": {
            "text/html": [
              "<div>\n",
              "<style scoped>\n",
              "    .dataframe tbody tr th:only-of-type {\n",
              "        vertical-align: middle;\n",
              "    }\n",
              "\n",
              "    .dataframe tbody tr th {\n",
              "        vertical-align: top;\n",
              "    }\n",
              "\n",
              "    .dataframe thead th {\n",
              "        text-align: right;\n",
              "    }\n",
              "</style>\n",
              "<table border=\"1\" class=\"dataframe\">\n",
              "  <thead>\n",
              "    <tr style=\"text-align: right;\">\n",
              "      <th></th>\n",
              "      <th>POSTED_BY</th>\n",
              "      <th>UNDER_CONSTRUCTION</th>\n",
              "      <th>RERA</th>\n",
              "      <th>BHK_NO.</th>\n",
              "      <th>BHK_OR_RK</th>\n",
              "      <th>SQUARE_FT</th>\n",
              "      <th>READY_TO_MOVE</th>\n",
              "      <th>RESALE</th>\n",
              "      <th>LONGITUDE</th>\n",
              "      <th>LATITUDE</th>\n",
              "      <th>Target</th>\n",
              "    </tr>\n",
              "  </thead>\n",
              "  <tbody>\n",
              "  </tbody>\n",
              "</table>\n",
              "</div>"
            ],
            "text/plain": [
              "Empty DataFrame\n",
              "Columns: [POSTED_BY, UNDER_CONSTRUCTION, RERA, BHK_NO., BHK_OR_RK, SQUARE_FT, READY_TO_MOVE, RESALE, LONGITUDE, LATITUDE, Target]\n",
              "Index: []"
            ]
          },
          "metadata": {
            "tags": []
          },
          "execution_count": 49
        }
      ]
    },
    {
      "cell_type": "code",
      "metadata": {
        "id": "BSdFGGZ9T5L4"
      },
      "source": [
        "x_test = scaler.transform(X_test)"
      ],
      "execution_count": 19,
      "outputs": []
    },
    {
      "cell_type": "code",
      "metadata": {
        "colab": {
          "base_uri": "https://localhost:8080/"
        },
        "id": "-HFPKe4BaG9p",
        "outputId": "d852fe5c-0631-4a18-d175-8bce3cd6eced"
      },
      "source": [
        "dfle.shape"
      ],
      "execution_count": 204,
      "outputs": [
        {
          "output_type": "execute_result",
          "data": {
            "text/plain": [
              "(29451, 11)"
            ]
          },
          "metadata": {
            "tags": []
          },
          "execution_count": 204
        }
      ]
    },
    {
      "cell_type": "code",
      "metadata": {
        "colab": {
          "base_uri": "https://localhost:8080/"
        },
        "id": "hUsDioeSb2lf",
        "outputId": "62402d5b-a7d5-4024-c3ed-d9dfd3957f1b"
      },
      "source": [
        "x_train.shape"
      ],
      "execution_count": 209,
      "outputs": [
        {
          "output_type": "execute_result",
          "data": {
            "text/plain": [
              "(23560, 10)"
            ]
          },
          "metadata": {
            "tags": []
          },
          "execution_count": 209
        }
      ]
    },
    {
      "cell_type": "code",
      "metadata": {
        "id": "vqAROAMjX0Ax"
      },
      "source": [
        "model = keras.Sequential()\n",
        "\n",
        "model.add(keras.layers.Dense((10), activation='relu',input_shape=(10,)))\n",
        "model.add(keras.layers.Dense((8), activation='relu'))\n",
        "model.add(keras.layers.Dropout(0.2))\n",
        "model.add(keras.layers.Dense((8), activation='relu'))\n",
        "model.add(keras.layers.Dense((6), activation='relu'))\n",
        "model.add(keras.layers.Dense(1))\n",
        "\n",
        "model.compile(optimizer='adam', loss='mean_absolute_error')"
      ],
      "execution_count": 21,
      "outputs": []
    },
    {
      "cell_type": "code",
      "metadata": {
        "colab": {
          "base_uri": "https://localhost:8080/"
        },
        "id": "4gRbehivbLeL",
        "outputId": "20757a1e-31b6-488d-937e-d0ab9f790234"
      },
      "source": [
        "model.fit(x_train,Y_train, epochs=200)"
      ],
      "execution_count": 22,
      "outputs": [
        {
          "output_type": "stream",
          "text": [
            "737/737 [==============================] - 1s 2ms/step - loss: 83.0037\n",
            "Epoch 94/200\n",
            "737/737 [==============================] - 2s 2ms/step - loss: 82.3882\n",
            "Epoch 95/200\n",
            "737/737 [==============================] - 1s 2ms/step - loss: 79.6684\n",
            "Epoch 96/200\n",
            "737/737 [==============================] - 1s 2ms/step - loss: 81.3128\n",
            "Epoch 97/200\n",
            "737/737 [==============================] - 1s 2ms/step - loss: 83.6234\n",
            "Epoch 98/200\n",
            "737/737 [==============================] - 1s 2ms/step - loss: 84.1305\n",
            "Epoch 99/200\n",
            "737/737 [==============================] - 1s 2ms/step - loss: 86.3129\n",
            "Epoch 100/200\n",
            "737/737 [==============================] - 1s 2ms/step - loss: 89.9069\n",
            "Epoch 101/200\n",
            "737/737 [==============================] - 1s 2ms/step - loss: 86.4049\n",
            "Epoch 102/200\n",
            "737/737 [==============================] - 2s 2ms/step - loss: 83.9532\n",
            "Epoch 103/200\n",
            "737/737 [==============================] - 1s 2ms/step - loss: 86.8795\n",
            "Epoch 104/200\n",
            "737/737 [==============================] - 1s 2ms/step - loss: 79.4326\n",
            "Epoch 105/200\n",
            "737/737 [==============================] - 2s 2ms/step - loss: 75.8485\n",
            "Epoch 106/200\n",
            "737/737 [==============================] - 2s 2ms/step - loss: 84.7515\n",
            "Epoch 107/200\n",
            "737/737 [==============================] - 1s 2ms/step - loss: 81.2573\n",
            "Epoch 108/200\n",
            "737/737 [==============================] - 2s 2ms/step - loss: 86.7551\n",
            "Epoch 109/200\n",
            "737/737 [==============================] - 2s 2ms/step - loss: 83.6941\n",
            "Epoch 110/200\n",
            "737/737 [==============================] - 1s 2ms/step - loss: 83.7934\n",
            "Epoch 111/200\n",
            "737/737 [==============================] - 1s 2ms/step - loss: 80.7478\n",
            "Epoch 112/200\n",
            "737/737 [==============================] - 1s 2ms/step - loss: 77.2092\n",
            "Epoch 113/200\n",
            "737/737 [==============================] - 1s 2ms/step - loss: 80.8487\n",
            "Epoch 114/200\n",
            "737/737 [==============================] - 1s 2ms/step - loss: 83.1863\n",
            "Epoch 115/200\n",
            "737/737 [==============================] - 1s 2ms/step - loss: 79.4513\n",
            "Epoch 116/200\n",
            "737/737 [==============================] - 1s 2ms/step - loss: 84.0438\n",
            "Epoch 117/200\n",
            "737/737 [==============================] - 1s 2ms/step - loss: 86.6217\n",
            "Epoch 118/200\n",
            "737/737 [==============================] - 2s 2ms/step - loss: 82.0595\n",
            "Epoch 119/200\n",
            "737/737 [==============================] - 1s 2ms/step - loss: 77.9228\n",
            "Epoch 120/200\n",
            "737/737 [==============================] - 1s 2ms/step - loss: 84.4391\n",
            "Epoch 121/200\n",
            "737/737 [==============================] - 1s 2ms/step - loss: 87.0811\n",
            "Epoch 122/200\n",
            "737/737 [==============================] - 1s 2ms/step - loss: 83.3554\n",
            "Epoch 123/200\n",
            "737/737 [==============================] - 1s 2ms/step - loss: 79.7745\n",
            "Epoch 124/200\n",
            "737/737 [==============================] - 2s 2ms/step - loss: 82.2996\n",
            "Epoch 125/200\n",
            "737/737 [==============================] - 1s 2ms/step - loss: 78.3897\n",
            "Epoch 126/200\n",
            "737/737 [==============================] - 1s 2ms/step - loss: 83.1243\n",
            "Epoch 127/200\n",
            "737/737 [==============================] - 1s 2ms/step - loss: 87.6598\n",
            "Epoch 128/200\n",
            "737/737 [==============================] - 1s 2ms/step - loss: 86.2707\n",
            "Epoch 129/200\n",
            "737/737 [==============================] - 1s 2ms/step - loss: 82.0774\n",
            "Epoch 130/200\n",
            "737/737 [==============================] - 2s 2ms/step - loss: 86.3307\n",
            "Epoch 131/200\n",
            "737/737 [==============================] - 1s 2ms/step - loss: 76.4126\n",
            "Epoch 132/200\n",
            "737/737 [==============================] - 2s 2ms/step - loss: 80.9288\n",
            "Epoch 133/200\n",
            "737/737 [==============================] - 2s 2ms/step - loss: 79.2338\n",
            "Epoch 134/200\n",
            "737/737 [==============================] - 1s 2ms/step - loss: 82.5074\n",
            "Epoch 135/200\n",
            "737/737 [==============================] - 2s 2ms/step - loss: 78.9800\n",
            "Epoch 136/200\n",
            "737/737 [==============================] - 1s 2ms/step - loss: 84.1601\n",
            "Epoch 137/200\n",
            "737/737 [==============================] - 2s 2ms/step - loss: 83.8517\n",
            "Epoch 138/200\n",
            "737/737 [==============================] - 1s 2ms/step - loss: 84.6893\n",
            "Epoch 139/200\n",
            "737/737 [==============================] - 1s 2ms/step - loss: 78.2898\n",
            "Epoch 140/200\n",
            "737/737 [==============================] - 1s 2ms/step - loss: 84.4994\n",
            "Epoch 141/200\n",
            "737/737 [==============================] - 1s 2ms/step - loss: 80.2775\n",
            "Epoch 142/200\n",
            "737/737 [==============================] - 1s 2ms/step - loss: 80.0157\n",
            "Epoch 143/200\n",
            "737/737 [==============================] - 1s 2ms/step - loss: 84.4416\n",
            "Epoch 144/200\n",
            "737/737 [==============================] - 2s 2ms/step - loss: 77.2986\n",
            "Epoch 145/200\n",
            "737/737 [==============================] - 2s 2ms/step - loss: 81.1902\n",
            "Epoch 146/200\n",
            "737/737 [==============================] - 1s 2ms/step - loss: 83.7730\n",
            "Epoch 147/200\n",
            "737/737 [==============================] - 1s 2ms/step - loss: 82.5325\n",
            "Epoch 148/200\n",
            "737/737 [==============================] - 1s 2ms/step - loss: 88.1080\n",
            "Epoch 149/200\n",
            "737/737 [==============================] - 2s 2ms/step - loss: 82.2200\n",
            "Epoch 150/200\n",
            "737/737 [==============================] - 2s 2ms/step - loss: 73.1207\n",
            "Epoch 151/200\n",
            "737/737 [==============================] - 2s 2ms/step - loss: 84.0966\n",
            "Epoch 152/200\n",
            "737/737 [==============================] - 1s 2ms/step - loss: 78.2222\n",
            "Epoch 153/200\n",
            "737/737 [==============================] - 1s 2ms/step - loss: 75.3939\n",
            "Epoch 154/200\n",
            "737/737 [==============================] - 2s 2ms/step - loss: 82.0553\n",
            "Epoch 155/200\n",
            "737/737 [==============================] - 1s 2ms/step - loss: 79.7981\n",
            "Epoch 156/200\n",
            "737/737 [==============================] - 1s 2ms/step - loss: 79.4856\n",
            "Epoch 157/200\n",
            "737/737 [==============================] - 1s 2ms/step - loss: 85.0313\n",
            "Epoch 158/200\n",
            "737/737 [==============================] - 2s 2ms/step - loss: 80.2436\n",
            "Epoch 159/200\n",
            "737/737 [==============================] - 1s 2ms/step - loss: 78.7160\n",
            "Epoch 160/200\n",
            "737/737 [==============================] - 1s 2ms/step - loss: 79.3374\n",
            "Epoch 161/200\n",
            "737/737 [==============================] - 1s 2ms/step - loss: 82.6320\n",
            "Epoch 162/200\n",
            "737/737 [==============================] - 2s 2ms/step - loss: 75.9439\n",
            "Epoch 163/200\n",
            "737/737 [==============================] - 1s 2ms/step - loss: 76.0232\n",
            "Epoch 164/200\n",
            "737/737 [==============================] - 2s 2ms/step - loss: 80.6706\n",
            "Epoch 165/200\n",
            "737/737 [==============================] - 1s 2ms/step - loss: 84.5760\n",
            "Epoch 166/200\n",
            "737/737 [==============================] - 1s 2ms/step - loss: 85.0885\n",
            "Epoch 167/200\n",
            "737/737 [==============================] - 1s 2ms/step - loss: 77.8522\n",
            "Epoch 168/200\n",
            "737/737 [==============================] - 1s 2ms/step - loss: 87.0857\n",
            "Epoch 169/200\n",
            "737/737 [==============================] - 2s 2ms/step - loss: 82.0965\n",
            "Epoch 170/200\n",
            "737/737 [==============================] - 2s 2ms/step - loss: 78.8444\n",
            "Epoch 171/200\n",
            "737/737 [==============================] - 1s 2ms/step - loss: 84.3906\n",
            "Epoch 172/200\n",
            "737/737 [==============================] - 2s 2ms/step - loss: 79.6179\n",
            "Epoch 173/200\n",
            "737/737 [==============================] - 2s 2ms/step - loss: 73.2589\n",
            "Epoch 174/200\n",
            "737/737 [==============================] - 1s 2ms/step - loss: 77.2186\n",
            "Epoch 175/200\n",
            "737/737 [==============================] - 2s 2ms/step - loss: 86.9575\n",
            "Epoch 176/200\n",
            "737/737 [==============================] - 2s 2ms/step - loss: 80.6335\n",
            "Epoch 177/200\n",
            "737/737 [==============================] - 2s 2ms/step - loss: 80.0055\n",
            "Epoch 178/200\n",
            "737/737 [==============================] - 2s 2ms/step - loss: 72.3850\n",
            "Epoch 179/200\n",
            "737/737 [==============================] - 2s 2ms/step - loss: 79.2456\n",
            "Epoch 180/200\n",
            "737/737 [==============================] - 1s 2ms/step - loss: 85.6356\n",
            "Epoch 181/200\n",
            "737/737 [==============================] - 2s 2ms/step - loss: 75.0847\n",
            "Epoch 182/200\n",
            "737/737 [==============================] - 2s 2ms/step - loss: 76.6778\n",
            "Epoch 183/200\n",
            "737/737 [==============================] - 2s 2ms/step - loss: 73.8580\n",
            "Epoch 184/200\n",
            "737/737 [==============================] - 1s 2ms/step - loss: 82.6164\n",
            "Epoch 185/200\n",
            "737/737 [==============================] - 2s 2ms/step - loss: 86.4520\n",
            "Epoch 186/200\n",
            "737/737 [==============================] - 2s 2ms/step - loss: 80.5572\n",
            "Epoch 187/200\n",
            "737/737 [==============================] - 2s 2ms/step - loss: 79.0583\n",
            "Epoch 188/200\n",
            "737/737 [==============================] - 1s 2ms/step - loss: 74.0516\n",
            "Epoch 189/200\n",
            "737/737 [==============================] - 2s 2ms/step - loss: 79.7526\n",
            "Epoch 190/200\n",
            "737/737 [==============================] - 2s 2ms/step - loss: 86.6944\n",
            "Epoch 191/200\n",
            "737/737 [==============================] - 2s 2ms/step - loss: 73.8375\n",
            "Epoch 192/200\n",
            "737/737 [==============================] - 2s 2ms/step - loss: 84.6356\n",
            "Epoch 193/200\n",
            "737/737 [==============================] - 2s 2ms/step - loss: 82.7029\n",
            "Epoch 194/200\n",
            "737/737 [==============================] - 2s 2ms/step - loss: 81.1434\n",
            "Epoch 195/200\n",
            "737/737 [==============================] - 2s 2ms/step - loss: 75.8938\n",
            "Epoch 196/200\n",
            "737/737 [==============================] - 2s 2ms/step - loss: 75.8501\n",
            "Epoch 197/200\n",
            "737/737 [==============================] - 2s 2ms/step - loss: 76.7788\n",
            "Epoch 198/200\n",
            "737/737 [==============================] - 2s 2ms/step - loss: 76.0467\n",
            "Epoch 199/200\n",
            "737/737 [==============================] - 1s 2ms/step - loss: 80.7860\n",
            "Epoch 200/200\n",
            "737/737 [==============================] - 2s 2ms/step - loss: 71.7258\n"
          ],
          "name": "stdout"
        },
        {
          "output_type": "execute_result",
          "data": {
            "text/plain": [
              "<keras.callbacks.History at 0x7f0aca0753d0>"
            ]
          },
          "metadata": {
            "tags": []
          },
          "execution_count": 22
        }
      ]
    },
    {
      "cell_type": "code",
      "metadata": {
        "id": "Xy4M2Z50bsrC"
      },
      "source": [
        "predictions = model.predict(x_test)"
      ],
      "execution_count": 23,
      "outputs": []
    },
    {
      "cell_type": "code",
      "metadata": {
        "id": "rM0q-jbZczxs"
      },
      "source": [
        "from sklearn.metrics import r2_score"
      ],
      "execution_count": 24,
      "outputs": []
    },
    {
      "cell_type": "code",
      "metadata": {
        "colab": {
          "base_uri": "https://localhost:8080/"
        },
        "id": "kAUChLrWdnU6",
        "outputId": "3197fe8f-b355-47e7-b7e8-f2acc35b9dee"
      },
      "source": [
        "accuracy = r2_score(Y_test,predictions)\n",
        "accuracy"
      ],
      "execution_count": 25,
      "outputs": [
        {
          "output_type": "execute_result",
          "data": {
            "text/plain": [
              "0.35945796425462717"
            ]
          },
          "metadata": {
            "tags": []
          },
          "execution_count": 25
        }
      ]
    },
    {
      "cell_type": "code",
      "metadata": {
        "id": "ZW3jRKZ7gYSb"
      },
      "source": [
        ""
      ],
      "execution_count": null,
      "outputs": []
    }
  ]
}