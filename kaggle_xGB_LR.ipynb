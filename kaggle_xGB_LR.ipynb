{
  "nbformat": 4,
  "nbformat_minor": 0,
  "metadata": {
    "colab": {
      "name": "kaggle_xGB_LR.ipynb",
      "provenance": [],
      "authorship_tag": "ABX9TyMHgEqBqu66oOnilXadoynF",
      "include_colab_link": true
    },
    "kernelspec": {
      "name": "python3",
      "display_name": "Python 3"
    }
  },
  "cells": [
    {
      "cell_type": "markdown",
      "metadata": {
        "id": "view-in-github",
        "colab_type": "text"
      },
      "source": [
        "<a href=\"https://colab.research.google.com/github/prady1900/Kaggle_Competition/blob/main/kaggle_xGB_LR.ipynb\" target=\"_parent\"><img src=\"https://colab.research.google.com/assets/colab-badge.svg\" alt=\"Open In Colab\"/></a>"
      ]
    },
    {
      "cell_type": "code",
      "metadata": {
        "id": "wgN5hklJ4I56"
      },
      "source": [
        "import tensorflow as tf\r\n",
        "from tensorflow import keras"
      ],
      "execution_count": 1,
      "outputs": []
    },
    {
      "cell_type": "code",
      "metadata": {
        "colab": {
          "resources": {
            "http://localhost:8080/nbextensions/google.colab/files.js": {
              "data": "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",
              "ok": true,
              "headers": [
                [
                  "content-type",
                  "application/javascript"
                ]
              ],
              "status": 200,
              "status_text": ""
            }
          },
          "base_uri": "https://localhost:8080/",
          "height": 327
        },
        "id": "tuM-c8FC4lRK",
        "outputId": "c6757bc9-b3f0-48cc-dca1-5ab4c67932a3"
      },
      "source": [
        "from google.colab import files\r\n",
        "files.upload() #upload kaggle.json\r\n",
        "\r\n",
        "!pip install -q kaggle\r\n",
        "!mkdir -p ~/.kaggle\r\n",
        "!cp kaggle.json ~/.kaggle/\r\n",
        "!ls ~/.kaggle\r\n",
        "!chmod 600 /root/.kaggle/kaggle.json\r\n",
        "\r\n",
        "!kaggle kernels list — user prady1900 — sort-by dateRun\r\n",
        "\r\n",
        "!kaggle competitions download -c tabular-playground-series-feb-2021\r\n",
        "\r\n",
        "!unzip -q train.csv.zip -d .\r\n",
        "!unzip -q test.csv.zip -d .\r\n",
        "!ls"
      ],
      "execution_count": 2,
      "outputs": [
        {
          "output_type": "display_data",
          "data": {
            "text/html": [
              "\n",
              "     <input type=\"file\" id=\"files-5915e4ce-a750-484f-8bb9-e0f7b59281c9\" name=\"files[]\" multiple disabled\n",
              "        style=\"border:none\" />\n",
              "     <output id=\"result-5915e4ce-a750-484f-8bb9-e0f7b59281c9\">\n",
              "      Upload widget is only available when the cell has been executed in the\n",
              "      current browser session. Please rerun this cell to enable.\n",
              "      </output>\n",
              "      <script src=\"/nbextensions/google.colab/files.js\"></script> "
            ],
            "text/plain": [
              "<IPython.core.display.HTML object>"
            ]
          },
          "metadata": {
            "tags": []
          }
        },
        {
          "output_type": "stream",
          "text": [
            "Saving kaggle.json to kaggle.json\n",
            "kaggle.json\n",
            "usage: kaggle [-h] [-v] {competitions,c,datasets,d,kernels,k,config} ...\n",
            "kaggle: error: unrecognized arguments: — user prady1900 — sort-by dateRun\n",
            "Warning: Looks like you're using an outdated API Version, please consider updating (server 1.5.10 / client 1.5.4)\n",
            "Downloading train.csv.zip to /content\n",
            " 82% 33.0M/40.2M [00:01<00:00, 9.26MB/s]\n",
            "100% 40.2M/40.2M [00:02<00:00, 20.9MB/s]\n",
            "Downloading test.csv.zip to /content\n",
            " 36% 9.00M/25.1M [00:01<00:02, 7.12MB/s]\n",
            "100% 25.1M/25.1M [00:01<00:00, 14.8MB/s]\n",
            "Downloading sample_submission.csv.zip to /content\n",
            "  0% 0.00/470k [00:00<?, ?B/s]\n",
            "100% 470k/470k [00:00<00:00, 63.9MB/s]\n",
            "kaggle.json  sample_submission.csv.zip\ttest.csv.zip  train.csv.zip\n",
            "sample_data  test.csv\t\t\ttrain.csv\n"
          ],
          "name": "stdout"
        }
      ]
    },
    {
      "cell_type": "code",
      "metadata": {
        "id": "ePyHLbSL4qua"
      },
      "source": [
        "from xgboost import XGBRegressor\r\n",
        "import pandas as pd\r\n",
        "import numpy as np"
      ],
      "execution_count": 2,
      "outputs": []
    },
    {
      "cell_type": "code",
      "metadata": {
        "colab": {
          "base_uri": "https://localhost:8080/",
          "height": 224
        },
        "id": "Jnumn5x48OLt",
        "outputId": "ec101983-b0a1-4a43-d60f-0ec75474b10e"
      },
      "source": [
        "df =pd.read_csv('train.csv')\r\n",
        "df.head()"
      ],
      "execution_count": 3,
      "outputs": [
        {
          "output_type": "execute_result",
          "data": {
            "text/html": [
              "<div>\n",
              "<style scoped>\n",
              "    .dataframe tbody tr th:only-of-type {\n",
              "        vertical-align: middle;\n",
              "    }\n",
              "\n",
              "    .dataframe tbody tr th {\n",
              "        vertical-align: top;\n",
              "    }\n",
              "\n",
              "    .dataframe thead th {\n",
              "        text-align: right;\n",
              "    }\n",
              "</style>\n",
              "<table border=\"1\" class=\"dataframe\">\n",
              "  <thead>\n",
              "    <tr style=\"text-align: right;\">\n",
              "      <th></th>\n",
              "      <th>id</th>\n",
              "      <th>cat0</th>\n",
              "      <th>cat1</th>\n",
              "      <th>cat2</th>\n",
              "      <th>cat3</th>\n",
              "      <th>cat4</th>\n",
              "      <th>cat5</th>\n",
              "      <th>cat6</th>\n",
              "      <th>cat7</th>\n",
              "      <th>cat8</th>\n",
              "      <th>cat9</th>\n",
              "      <th>cont0</th>\n",
              "      <th>cont1</th>\n",
              "      <th>cont2</th>\n",
              "      <th>cont3</th>\n",
              "      <th>cont4</th>\n",
              "      <th>cont5</th>\n",
              "      <th>cont6</th>\n",
              "      <th>cont7</th>\n",
              "      <th>cont8</th>\n",
              "      <th>cont9</th>\n",
              "      <th>cont10</th>\n",
              "      <th>cont11</th>\n",
              "      <th>cont12</th>\n",
              "      <th>cont13</th>\n",
              "      <th>target</th>\n",
              "    </tr>\n",
              "  </thead>\n",
              "  <tbody>\n",
              "    <tr>\n",
              "      <th>0</th>\n",
              "      <td>1</td>\n",
              "      <td>A</td>\n",
              "      <td>B</td>\n",
              "      <td>A</td>\n",
              "      <td>A</td>\n",
              "      <td>B</td>\n",
              "      <td>D</td>\n",
              "      <td>A</td>\n",
              "      <td>E</td>\n",
              "      <td>C</td>\n",
              "      <td>I</td>\n",
              "      <td>0.923191</td>\n",
              "      <td>0.684968</td>\n",
              "      <td>0.124454</td>\n",
              "      <td>0.217886</td>\n",
              "      <td>0.281421</td>\n",
              "      <td>0.881122</td>\n",
              "      <td>0.421650</td>\n",
              "      <td>0.741413</td>\n",
              "      <td>0.895799</td>\n",
              "      <td>0.802461</td>\n",
              "      <td>0.724417</td>\n",
              "      <td>0.701915</td>\n",
              "      <td>0.877618</td>\n",
              "      <td>0.719903</td>\n",
              "      <td>6.994023</td>\n",
              "    </tr>\n",
              "    <tr>\n",
              "      <th>1</th>\n",
              "      <td>2</td>\n",
              "      <td>B</td>\n",
              "      <td>A</td>\n",
              "      <td>A</td>\n",
              "      <td>A</td>\n",
              "      <td>B</td>\n",
              "      <td>B</td>\n",
              "      <td>A</td>\n",
              "      <td>E</td>\n",
              "      <td>A</td>\n",
              "      <td>F</td>\n",
              "      <td>0.437627</td>\n",
              "      <td>0.014213</td>\n",
              "      <td>0.357438</td>\n",
              "      <td>0.846127</td>\n",
              "      <td>0.282354</td>\n",
              "      <td>0.440011</td>\n",
              "      <td>0.346230</td>\n",
              "      <td>0.278495</td>\n",
              "      <td>0.593413</td>\n",
              "      <td>0.546056</td>\n",
              "      <td>0.613252</td>\n",
              "      <td>0.741289</td>\n",
              "      <td>0.326679</td>\n",
              "      <td>0.808464</td>\n",
              "      <td>8.071256</td>\n",
              "    </tr>\n",
              "    <tr>\n",
              "      <th>2</th>\n",
              "      <td>3</td>\n",
              "      <td>A</td>\n",
              "      <td>A</td>\n",
              "      <td>A</td>\n",
              "      <td>C</td>\n",
              "      <td>B</td>\n",
              "      <td>D</td>\n",
              "      <td>A</td>\n",
              "      <td>B</td>\n",
              "      <td>C</td>\n",
              "      <td>N</td>\n",
              "      <td>0.732209</td>\n",
              "      <td>0.760122</td>\n",
              "      <td>0.454644</td>\n",
              "      <td>0.812990</td>\n",
              "      <td>0.293756</td>\n",
              "      <td>0.914155</td>\n",
              "      <td>0.369602</td>\n",
              "      <td>0.832564</td>\n",
              "      <td>0.865620</td>\n",
              "      <td>0.825251</td>\n",
              "      <td>0.264104</td>\n",
              "      <td>0.695561</td>\n",
              "      <td>0.869133</td>\n",
              "      <td>0.828352</td>\n",
              "      <td>5.760456</td>\n",
              "    </tr>\n",
              "    <tr>\n",
              "      <th>3</th>\n",
              "      <td>4</td>\n",
              "      <td>A</td>\n",
              "      <td>A</td>\n",
              "      <td>A</td>\n",
              "      <td>C</td>\n",
              "      <td>B</td>\n",
              "      <td>D</td>\n",
              "      <td>A</td>\n",
              "      <td>E</td>\n",
              "      <td>G</td>\n",
              "      <td>K</td>\n",
              "      <td>0.705142</td>\n",
              "      <td>0.771678</td>\n",
              "      <td>0.153735</td>\n",
              "      <td>0.732893</td>\n",
              "      <td>0.769785</td>\n",
              "      <td>0.934138</td>\n",
              "      <td>0.578930</td>\n",
              "      <td>0.407313</td>\n",
              "      <td>0.868099</td>\n",
              "      <td>0.794402</td>\n",
              "      <td>0.494269</td>\n",
              "      <td>0.698125</td>\n",
              "      <td>0.809799</td>\n",
              "      <td>0.614766</td>\n",
              "      <td>7.806457</td>\n",
              "    </tr>\n",
              "    <tr>\n",
              "      <th>4</th>\n",
              "      <td>6</td>\n",
              "      <td>A</td>\n",
              "      <td>B</td>\n",
              "      <td>A</td>\n",
              "      <td>A</td>\n",
              "      <td>B</td>\n",
              "      <td>B</td>\n",
              "      <td>A</td>\n",
              "      <td>E</td>\n",
              "      <td>C</td>\n",
              "      <td>F</td>\n",
              "      <td>0.486063</td>\n",
              "      <td>0.639349</td>\n",
              "      <td>0.496212</td>\n",
              "      <td>0.354186</td>\n",
              "      <td>0.279105</td>\n",
              "      <td>0.382600</td>\n",
              "      <td>0.705940</td>\n",
              "      <td>0.325193</td>\n",
              "      <td>0.440967</td>\n",
              "      <td>0.462146</td>\n",
              "      <td>0.724447</td>\n",
              "      <td>0.683073</td>\n",
              "      <td>0.343457</td>\n",
              "      <td>0.297743</td>\n",
              "      <td>6.868974</td>\n",
              "    </tr>\n",
              "  </tbody>\n",
              "</table>\n",
              "</div>"
            ],
            "text/plain": [
              "   id cat0 cat1 cat2 cat3  ...    cont10    cont11    cont12    cont13    target\n",
              "0   1    A    B    A    A  ...  0.724417  0.701915  0.877618  0.719903  6.994023\n",
              "1   2    B    A    A    A  ...  0.613252  0.741289  0.326679  0.808464  8.071256\n",
              "2   3    A    A    A    C  ...  0.264104  0.695561  0.869133  0.828352  5.760456\n",
              "3   4    A    A    A    C  ...  0.494269  0.698125  0.809799  0.614766  7.806457\n",
              "4   6    A    B    A    A  ...  0.724447  0.683073  0.343457  0.297743  6.868974\n",
              "\n",
              "[5 rows x 26 columns]"
            ]
          },
          "metadata": {
            "tags": []
          },
          "execution_count": 3
        }
      ]
    },
    {
      "cell_type": "code",
      "metadata": {
        "id": "16DPcxYq8SbL"
      },
      "source": [
        "from sklearn.preprocessing import LabelEncoder"
      ],
      "execution_count": 4,
      "outputs": []
    },
    {
      "cell_type": "code",
      "metadata": {
        "colab": {
          "base_uri": "https://localhost:8080/",
          "height": 204
        },
        "id": "sIeX-XUS8ecX",
        "outputId": "f293f77a-4dc9-4dcf-c64c-b101490b7402"
      },
      "source": [
        "cat_cols = df.iloc[:,1:11]\r\n",
        "cat_cols[:5]"
      ],
      "execution_count": 5,
      "outputs": [
        {
          "output_type": "execute_result",
          "data": {
            "text/html": [
              "<div>\n",
              "<style scoped>\n",
              "    .dataframe tbody tr th:only-of-type {\n",
              "        vertical-align: middle;\n",
              "    }\n",
              "\n",
              "    .dataframe tbody tr th {\n",
              "        vertical-align: top;\n",
              "    }\n",
              "\n",
              "    .dataframe thead th {\n",
              "        text-align: right;\n",
              "    }\n",
              "</style>\n",
              "<table border=\"1\" class=\"dataframe\">\n",
              "  <thead>\n",
              "    <tr style=\"text-align: right;\">\n",
              "      <th></th>\n",
              "      <th>cat0</th>\n",
              "      <th>cat1</th>\n",
              "      <th>cat2</th>\n",
              "      <th>cat3</th>\n",
              "      <th>cat4</th>\n",
              "      <th>cat5</th>\n",
              "      <th>cat6</th>\n",
              "      <th>cat7</th>\n",
              "      <th>cat8</th>\n",
              "      <th>cat9</th>\n",
              "    </tr>\n",
              "  </thead>\n",
              "  <tbody>\n",
              "    <tr>\n",
              "      <th>0</th>\n",
              "      <td>A</td>\n",
              "      <td>B</td>\n",
              "      <td>A</td>\n",
              "      <td>A</td>\n",
              "      <td>B</td>\n",
              "      <td>D</td>\n",
              "      <td>A</td>\n",
              "      <td>E</td>\n",
              "      <td>C</td>\n",
              "      <td>I</td>\n",
              "    </tr>\n",
              "    <tr>\n",
              "      <th>1</th>\n",
              "      <td>B</td>\n",
              "      <td>A</td>\n",
              "      <td>A</td>\n",
              "      <td>A</td>\n",
              "      <td>B</td>\n",
              "      <td>B</td>\n",
              "      <td>A</td>\n",
              "      <td>E</td>\n",
              "      <td>A</td>\n",
              "      <td>F</td>\n",
              "    </tr>\n",
              "    <tr>\n",
              "      <th>2</th>\n",
              "      <td>A</td>\n",
              "      <td>A</td>\n",
              "      <td>A</td>\n",
              "      <td>C</td>\n",
              "      <td>B</td>\n",
              "      <td>D</td>\n",
              "      <td>A</td>\n",
              "      <td>B</td>\n",
              "      <td>C</td>\n",
              "      <td>N</td>\n",
              "    </tr>\n",
              "    <tr>\n",
              "      <th>3</th>\n",
              "      <td>A</td>\n",
              "      <td>A</td>\n",
              "      <td>A</td>\n",
              "      <td>C</td>\n",
              "      <td>B</td>\n",
              "      <td>D</td>\n",
              "      <td>A</td>\n",
              "      <td>E</td>\n",
              "      <td>G</td>\n",
              "      <td>K</td>\n",
              "    </tr>\n",
              "    <tr>\n",
              "      <th>4</th>\n",
              "      <td>A</td>\n",
              "      <td>B</td>\n",
              "      <td>A</td>\n",
              "      <td>A</td>\n",
              "      <td>B</td>\n",
              "      <td>B</td>\n",
              "      <td>A</td>\n",
              "      <td>E</td>\n",
              "      <td>C</td>\n",
              "      <td>F</td>\n",
              "    </tr>\n",
              "  </tbody>\n",
              "</table>\n",
              "</div>"
            ],
            "text/plain": [
              "  cat0 cat1 cat2 cat3 cat4 cat5 cat6 cat7 cat8 cat9\n",
              "0    A    B    A    A    B    D    A    E    C    I\n",
              "1    B    A    A    A    B    B    A    E    A    F\n",
              "2    A    A    A    C    B    D    A    B    C    N\n",
              "3    A    A    A    C    B    D    A    E    G    K\n",
              "4    A    B    A    A    B    B    A    E    C    F"
            ]
          },
          "metadata": {
            "tags": []
          },
          "execution_count": 5
        }
      ]
    },
    {
      "cell_type": "code",
      "metadata": {
        "colab": {
          "base_uri": "https://localhost:8080/",
          "height": 224
        },
        "id": "gZpdxnTY8X7c",
        "outputId": "bf718dc1-8f1d-4938-d3b0-78291cff9bc7"
      },
      "source": [
        "lbl = LabelEncoder()\r\n",
        "for cols in cat_cols.columns:\r\n",
        "  lbl.fit(df[cols])\r\n",
        "  df[cols] = lbl.transform(df[cols])\r\n",
        "df.head()"
      ],
      "execution_count": 6,
      "outputs": [
        {
          "output_type": "execute_result",
          "data": {
            "text/html": [
              "<div>\n",
              "<style scoped>\n",
              "    .dataframe tbody tr th:only-of-type {\n",
              "        vertical-align: middle;\n",
              "    }\n",
              "\n",
              "    .dataframe tbody tr th {\n",
              "        vertical-align: top;\n",
              "    }\n",
              "\n",
              "    .dataframe thead th {\n",
              "        text-align: right;\n",
              "    }\n",
              "</style>\n",
              "<table border=\"1\" class=\"dataframe\">\n",
              "  <thead>\n",
              "    <tr style=\"text-align: right;\">\n",
              "      <th></th>\n",
              "      <th>id</th>\n",
              "      <th>cat0</th>\n",
              "      <th>cat1</th>\n",
              "      <th>cat2</th>\n",
              "      <th>cat3</th>\n",
              "      <th>cat4</th>\n",
              "      <th>cat5</th>\n",
              "      <th>cat6</th>\n",
              "      <th>cat7</th>\n",
              "      <th>cat8</th>\n",
              "      <th>cat9</th>\n",
              "      <th>cont0</th>\n",
              "      <th>cont1</th>\n",
              "      <th>cont2</th>\n",
              "      <th>cont3</th>\n",
              "      <th>cont4</th>\n",
              "      <th>cont5</th>\n",
              "      <th>cont6</th>\n",
              "      <th>cont7</th>\n",
              "      <th>cont8</th>\n",
              "      <th>cont9</th>\n",
              "      <th>cont10</th>\n",
              "      <th>cont11</th>\n",
              "      <th>cont12</th>\n",
              "      <th>cont13</th>\n",
              "      <th>target</th>\n",
              "    </tr>\n",
              "  </thead>\n",
              "  <tbody>\n",
              "    <tr>\n",
              "      <th>0</th>\n",
              "      <td>1</td>\n",
              "      <td>0</td>\n",
              "      <td>1</td>\n",
              "      <td>0</td>\n",
              "      <td>0</td>\n",
              "      <td>1</td>\n",
              "      <td>3</td>\n",
              "      <td>0</td>\n",
              "      <td>4</td>\n",
              "      <td>2</td>\n",
              "      <td>8</td>\n",
              "      <td>0.923191</td>\n",
              "      <td>0.684968</td>\n",
              "      <td>0.124454</td>\n",
              "      <td>0.217886</td>\n",
              "      <td>0.281421</td>\n",
              "      <td>0.881122</td>\n",
              "      <td>0.421650</td>\n",
              "      <td>0.741413</td>\n",
              "      <td>0.895799</td>\n",
              "      <td>0.802461</td>\n",
              "      <td>0.724417</td>\n",
              "      <td>0.701915</td>\n",
              "      <td>0.877618</td>\n",
              "      <td>0.719903</td>\n",
              "      <td>6.994023</td>\n",
              "    </tr>\n",
              "    <tr>\n",
              "      <th>1</th>\n",
              "      <td>2</td>\n",
              "      <td>1</td>\n",
              "      <td>0</td>\n",
              "      <td>0</td>\n",
              "      <td>0</td>\n",
              "      <td>1</td>\n",
              "      <td>1</td>\n",
              "      <td>0</td>\n",
              "      <td>4</td>\n",
              "      <td>0</td>\n",
              "      <td>5</td>\n",
              "      <td>0.437627</td>\n",
              "      <td>0.014213</td>\n",
              "      <td>0.357438</td>\n",
              "      <td>0.846127</td>\n",
              "      <td>0.282354</td>\n",
              "      <td>0.440011</td>\n",
              "      <td>0.346230</td>\n",
              "      <td>0.278495</td>\n",
              "      <td>0.593413</td>\n",
              "      <td>0.546056</td>\n",
              "      <td>0.613252</td>\n",
              "      <td>0.741289</td>\n",
              "      <td>0.326679</td>\n",
              "      <td>0.808464</td>\n",
              "      <td>8.071256</td>\n",
              "    </tr>\n",
              "    <tr>\n",
              "      <th>2</th>\n",
              "      <td>3</td>\n",
              "      <td>0</td>\n",
              "      <td>0</td>\n",
              "      <td>0</td>\n",
              "      <td>2</td>\n",
              "      <td>1</td>\n",
              "      <td>3</td>\n",
              "      <td>0</td>\n",
              "      <td>1</td>\n",
              "      <td>2</td>\n",
              "      <td>13</td>\n",
              "      <td>0.732209</td>\n",
              "      <td>0.760122</td>\n",
              "      <td>0.454644</td>\n",
              "      <td>0.812990</td>\n",
              "      <td>0.293756</td>\n",
              "      <td>0.914155</td>\n",
              "      <td>0.369602</td>\n",
              "      <td>0.832564</td>\n",
              "      <td>0.865620</td>\n",
              "      <td>0.825251</td>\n",
              "      <td>0.264104</td>\n",
              "      <td>0.695561</td>\n",
              "      <td>0.869133</td>\n",
              "      <td>0.828352</td>\n",
              "      <td>5.760456</td>\n",
              "    </tr>\n",
              "    <tr>\n",
              "      <th>3</th>\n",
              "      <td>4</td>\n",
              "      <td>0</td>\n",
              "      <td>0</td>\n",
              "      <td>0</td>\n",
              "      <td>2</td>\n",
              "      <td>1</td>\n",
              "      <td>3</td>\n",
              "      <td>0</td>\n",
              "      <td>4</td>\n",
              "      <td>6</td>\n",
              "      <td>10</td>\n",
              "      <td>0.705142</td>\n",
              "      <td>0.771678</td>\n",
              "      <td>0.153735</td>\n",
              "      <td>0.732893</td>\n",
              "      <td>0.769785</td>\n",
              "      <td>0.934138</td>\n",
              "      <td>0.578930</td>\n",
              "      <td>0.407313</td>\n",
              "      <td>0.868099</td>\n",
              "      <td>0.794402</td>\n",
              "      <td>0.494269</td>\n",
              "      <td>0.698125</td>\n",
              "      <td>0.809799</td>\n",
              "      <td>0.614766</td>\n",
              "      <td>7.806457</td>\n",
              "    </tr>\n",
              "    <tr>\n",
              "      <th>4</th>\n",
              "      <td>6</td>\n",
              "      <td>0</td>\n",
              "      <td>1</td>\n",
              "      <td>0</td>\n",
              "      <td>0</td>\n",
              "      <td>1</td>\n",
              "      <td>1</td>\n",
              "      <td>0</td>\n",
              "      <td>4</td>\n",
              "      <td>2</td>\n",
              "      <td>5</td>\n",
              "      <td>0.486063</td>\n",
              "      <td>0.639349</td>\n",
              "      <td>0.496212</td>\n",
              "      <td>0.354186</td>\n",
              "      <td>0.279105</td>\n",
              "      <td>0.382600</td>\n",
              "      <td>0.705940</td>\n",
              "      <td>0.325193</td>\n",
              "      <td>0.440967</td>\n",
              "      <td>0.462146</td>\n",
              "      <td>0.724447</td>\n",
              "      <td>0.683073</td>\n",
              "      <td>0.343457</td>\n",
              "      <td>0.297743</td>\n",
              "      <td>6.868974</td>\n",
              "    </tr>\n",
              "  </tbody>\n",
              "</table>\n",
              "</div>"
            ],
            "text/plain": [
              "   id  cat0  cat1  cat2  cat3  ...    cont10    cont11    cont12    cont13    target\n",
              "0   1     0     1     0     0  ...  0.724417  0.701915  0.877618  0.719903  6.994023\n",
              "1   2     1     0     0     0  ...  0.613252  0.741289  0.326679  0.808464  8.071256\n",
              "2   3     0     0     0     2  ...  0.264104  0.695561  0.869133  0.828352  5.760456\n",
              "3   4     0     0     0     2  ...  0.494269  0.698125  0.809799  0.614766  7.806457\n",
              "4   6     0     1     0     0  ...  0.724447  0.683073  0.343457  0.297743  6.868974\n",
              "\n",
              "[5 rows x 26 columns]"
            ]
          },
          "metadata": {
            "tags": []
          },
          "execution_count": 6
        }
      ]
    },
    {
      "cell_type": "code",
      "metadata": {
        "id": "XD5Pt0Lm8aBT"
      },
      "source": [
        "from sklearn.preprocessing import StandardScaler\r\n",
        "scaler = StandardScaler()"
      ],
      "execution_count": 7,
      "outputs": []
    },
    {
      "cell_type": "code",
      "metadata": {
        "colab": {
          "base_uri": "https://localhost:8080/",
          "height": 224
        },
        "id": "O0aXa9cb8ozr",
        "outputId": "e2beb404-f7f4-4430-d6c7-17dbc8c4a595"
      },
      "source": [
        "for cols in cat_cols:\r\n",
        "  df[cols] = scaler.fit_transform(df[[cols]])\r\n",
        "df.head()"
      ],
      "execution_count": 8,
      "outputs": [
        {
          "output_type": "execute_result",
          "data": {
            "text/html": [
              "<div>\n",
              "<style scoped>\n",
              "    .dataframe tbody tr th:only-of-type {\n",
              "        vertical-align: middle;\n",
              "    }\n",
              "\n",
              "    .dataframe tbody tr th {\n",
              "        vertical-align: top;\n",
              "    }\n",
              "\n",
              "    .dataframe thead th {\n",
              "        text-align: right;\n",
              "    }\n",
              "</style>\n",
              "<table border=\"1\" class=\"dataframe\">\n",
              "  <thead>\n",
              "    <tr style=\"text-align: right;\">\n",
              "      <th></th>\n",
              "      <th>id</th>\n",
              "      <th>cat0</th>\n",
              "      <th>cat1</th>\n",
              "      <th>cat2</th>\n",
              "      <th>cat3</th>\n",
              "      <th>cat4</th>\n",
              "      <th>cat5</th>\n",
              "      <th>cat6</th>\n",
              "      <th>cat7</th>\n",
              "      <th>cat8</th>\n",
              "      <th>cat9</th>\n",
              "      <th>cont0</th>\n",
              "      <th>cont1</th>\n",
              "      <th>cont2</th>\n",
              "      <th>cont3</th>\n",
              "      <th>cont4</th>\n",
              "      <th>cont5</th>\n",
              "      <th>cont6</th>\n",
              "      <th>cont7</th>\n",
              "      <th>cont8</th>\n",
              "      <th>cont9</th>\n",
              "      <th>cont10</th>\n",
              "      <th>cont11</th>\n",
              "      <th>cont12</th>\n",
              "      <th>cont13</th>\n",
              "      <th>target</th>\n",
              "    </tr>\n",
              "  </thead>\n",
              "  <tbody>\n",
              "    <tr>\n",
              "      <th>0</th>\n",
              "      <td>1</td>\n",
              "      <td>-0.256572</td>\n",
              "      <td>1.088415</td>\n",
              "      <td>-0.291189</td>\n",
              "      <td>-1.342193</td>\n",
              "      <td>-0.020835</td>\n",
              "      <td>1.075789</td>\n",
              "      <td>-0.141961</td>\n",
              "      <td>0.242093</td>\n",
              "      <td>-0.542108</td>\n",
              "      <td>0.247004</td>\n",
              "      <td>0.923191</td>\n",
              "      <td>0.684968</td>\n",
              "      <td>0.124454</td>\n",
              "      <td>0.217886</td>\n",
              "      <td>0.281421</td>\n",
              "      <td>0.881122</td>\n",
              "      <td>0.421650</td>\n",
              "      <td>0.741413</td>\n",
              "      <td>0.895799</td>\n",
              "      <td>0.802461</td>\n",
              "      <td>0.724417</td>\n",
              "      <td>0.701915</td>\n",
              "      <td>0.877618</td>\n",
              "      <td>0.719903</td>\n",
              "      <td>6.994023</td>\n",
              "    </tr>\n",
              "    <tr>\n",
              "      <th>1</th>\n",
              "      <td>2</td>\n",
              "      <td>3.897542</td>\n",
              "      <td>-0.918768</td>\n",
              "      <td>-0.291189</td>\n",
              "      <td>-1.342193</td>\n",
              "      <td>-0.020835</td>\n",
              "      <td>-0.929952</td>\n",
              "      <td>-0.141961</td>\n",
              "      <td>0.242093</td>\n",
              "      <td>-1.673138</td>\n",
              "      <td>-0.726522</td>\n",
              "      <td>0.437627</td>\n",
              "      <td>0.014213</td>\n",
              "      <td>0.357438</td>\n",
              "      <td>0.846127</td>\n",
              "      <td>0.282354</td>\n",
              "      <td>0.440011</td>\n",
              "      <td>0.346230</td>\n",
              "      <td>0.278495</td>\n",
              "      <td>0.593413</td>\n",
              "      <td>0.546056</td>\n",
              "      <td>0.613252</td>\n",
              "      <td>0.741289</td>\n",
              "      <td>0.326679</td>\n",
              "      <td>0.808464</td>\n",
              "      <td>8.071256</td>\n",
              "    </tr>\n",
              "    <tr>\n",
              "      <th>2</th>\n",
              "      <td>3</td>\n",
              "      <td>-0.256572</td>\n",
              "      <td>-0.918768</td>\n",
              "      <td>-0.291189</td>\n",
              "      <td>0.662896</td>\n",
              "      <td>-0.020835</td>\n",
              "      <td>1.075789</td>\n",
              "      <td>-0.141961</td>\n",
              "      <td>-5.573728</td>\n",
              "      <td>-0.542108</td>\n",
              "      <td>1.869547</td>\n",
              "      <td>0.732209</td>\n",
              "      <td>0.760122</td>\n",
              "      <td>0.454644</td>\n",
              "      <td>0.812990</td>\n",
              "      <td>0.293756</td>\n",
              "      <td>0.914155</td>\n",
              "      <td>0.369602</td>\n",
              "      <td>0.832564</td>\n",
              "      <td>0.865620</td>\n",
              "      <td>0.825251</td>\n",
              "      <td>0.264104</td>\n",
              "      <td>0.695561</td>\n",
              "      <td>0.869133</td>\n",
              "      <td>0.828352</td>\n",
              "      <td>5.760456</td>\n",
              "    </tr>\n",
              "    <tr>\n",
              "      <th>3</th>\n",
              "      <td>4</td>\n",
              "      <td>-0.256572</td>\n",
              "      <td>-0.918768</td>\n",
              "      <td>-0.291189</td>\n",
              "      <td>0.662896</td>\n",
              "      <td>-0.020835</td>\n",
              "      <td>1.075789</td>\n",
              "      <td>-0.141961</td>\n",
              "      <td>0.242093</td>\n",
              "      <td>1.719952</td>\n",
              "      <td>0.896021</td>\n",
              "      <td>0.705142</td>\n",
              "      <td>0.771678</td>\n",
              "      <td>0.153735</td>\n",
              "      <td>0.732893</td>\n",
              "      <td>0.769785</td>\n",
              "      <td>0.934138</td>\n",
              "      <td>0.578930</td>\n",
              "      <td>0.407313</td>\n",
              "      <td>0.868099</td>\n",
              "      <td>0.794402</td>\n",
              "      <td>0.494269</td>\n",
              "      <td>0.698125</td>\n",
              "      <td>0.809799</td>\n",
              "      <td>0.614766</td>\n",
              "      <td>7.806457</td>\n",
              "    </tr>\n",
              "    <tr>\n",
              "      <th>4</th>\n",
              "      <td>6</td>\n",
              "      <td>-0.256572</td>\n",
              "      <td>1.088415</td>\n",
              "      <td>-0.291189</td>\n",
              "      <td>-1.342193</td>\n",
              "      <td>-0.020835</td>\n",
              "      <td>-0.929952</td>\n",
              "      <td>-0.141961</td>\n",
              "      <td>0.242093</td>\n",
              "      <td>-0.542108</td>\n",
              "      <td>-0.726522</td>\n",
              "      <td>0.486063</td>\n",
              "      <td>0.639349</td>\n",
              "      <td>0.496212</td>\n",
              "      <td>0.354186</td>\n",
              "      <td>0.279105</td>\n",
              "      <td>0.382600</td>\n",
              "      <td>0.705940</td>\n",
              "      <td>0.325193</td>\n",
              "      <td>0.440967</td>\n",
              "      <td>0.462146</td>\n",
              "      <td>0.724447</td>\n",
              "      <td>0.683073</td>\n",
              "      <td>0.343457</td>\n",
              "      <td>0.297743</td>\n",
              "      <td>6.868974</td>\n",
              "    </tr>\n",
              "  </tbody>\n",
              "</table>\n",
              "</div>"
            ],
            "text/plain": [
              "   id      cat0      cat1      cat2  ...    cont11    cont12    cont13    target\n",
              "0   1 -0.256572  1.088415 -0.291189  ...  0.701915  0.877618  0.719903  6.994023\n",
              "1   2  3.897542 -0.918768 -0.291189  ...  0.741289  0.326679  0.808464  8.071256\n",
              "2   3 -0.256572 -0.918768 -0.291189  ...  0.695561  0.869133  0.828352  5.760456\n",
              "3   4 -0.256572 -0.918768 -0.291189  ...  0.698125  0.809799  0.614766  7.806457\n",
              "4   6 -0.256572  1.088415 -0.291189  ...  0.683073  0.343457  0.297743  6.868974\n",
              "\n",
              "[5 rows x 26 columns]"
            ]
          },
          "metadata": {
            "tags": []
          },
          "execution_count": 8
        }
      ]
    },
    {
      "cell_type": "code",
      "metadata": {
        "id": "iwzLwhCV8ru7"
      },
      "source": [
        "from sklearn.decomposition import PCA"
      ],
      "execution_count": 11,
      "outputs": []
    },
    {
      "cell_type": "code",
      "metadata": {
        "id": "YWGuAhbU80UL"
      },
      "source": [
        "pca=PCA(n_components=2)"
      ],
      "execution_count": 12,
      "outputs": []
    },
    {
      "cell_type": "code",
      "metadata": {
        "colab": {
          "base_uri": "https://localhost:8080/"
        },
        "id": "BhV1lrvt81Qj",
        "outputId": "3cd5328b-2c10-4a7e-acda-0df7a64c7fee"
      },
      "source": [
        "pca.fit(df.iloc[:,:-1])"
      ],
      "execution_count": 13,
      "outputs": [
        {
          "output_type": "execute_result",
          "data": {
            "text/plain": [
              "PCA(copy=True, iterated_power='auto', n_components=2, random_state=None,\n",
              "    svd_solver='auto', tol=0.0, whiten=False)"
            ]
          },
          "metadata": {
            "tags": []
          },
          "execution_count": 13
        }
      ]
    },
    {
      "cell_type": "code",
      "metadata": {
        "id": "iTjupZFo83YD"
      },
      "source": [
        "x_pca=pca.transform(df.iloc[:,:-1])"
      ],
      "execution_count": 14,
      "outputs": []
    },
    {
      "cell_type": "code",
      "metadata": {
        "colab": {
          "base_uri": "https://localhost:8080/"
        },
        "id": "iKtfOOD29GkL",
        "outputId": "36d33cc9-ff9e-40d7-bc18-a5e39d33bc48"
      },
      "source": [
        "y=df.iloc[:,-1]\r\n",
        "y.head()"
      ],
      "execution_count": 11,
      "outputs": [
        {
          "output_type": "execute_result",
          "data": {
            "text/plain": [
              "0    6.994023\n",
              "1    8.071256\n",
              "2    5.760456\n",
              "3    7.806457\n",
              "4    6.868974\n",
              "Name: target, dtype: float64"
            ]
          },
          "metadata": {
            "tags": []
          },
          "execution_count": 11
        }
      ]
    },
    {
      "cell_type": "code",
      "metadata": {
        "id": "V1rnMubv9KAM"
      },
      "source": [
        "from sklearn.model_selection import train_test_split\r\n",
        "from sklearn.model_selection import cross_val_score, KFold\r\n",
        "from sklearn.metrics import mean_squared_error"
      ],
      "execution_count": 16,
      "outputs": []
    },
    {
      "cell_type": "code",
      "metadata": {
        "colab": {
          "base_uri": "https://localhost:8080/"
        },
        "id": "yaE_aIVo91wT",
        "outputId": "3d1fac00-679f-4635-d44a-4a7dc8db1a11"
      },
      "source": [
        "x_pca.shape"
      ],
      "execution_count": 18,
      "outputs": [
        {
          "output_type": "execute_result",
          "data": {
            "text/plain": [
              "(300000, 2)"
            ]
          },
          "metadata": {
            "tags": []
          },
          "execution_count": 18
        }
      ]
    },
    {
      "cell_type": "code",
      "metadata": {
        "colab": {
          "base_uri": "https://localhost:8080/"
        },
        "id": "0XDM8p9q-UO5",
        "outputId": "883a049f-e4b9-4c57-8d87-d70cd3a57b8e"
      },
      "source": [
        "x_pca"
      ],
      "execution_count": 20,
      "outputs": [
        {
          "output_type": "execute_result",
          "data": {
            "text/plain": [
              "array([[ 2.50017577e+05, -3.18264841e-01],\n",
              "       [ 2.50016577e+05, -2.35638528e+00],\n",
              "       [ 2.50015577e+05, -9.81024621e-02],\n",
              "       ...,\n",
              "       [-2.49978423e+05,  1.65914393e+00],\n",
              "       [-2.49979423e+05,  1.83856835e+00],\n",
              "       [-2.49980423e+05, -1.20630502e-01]])"
            ]
          },
          "metadata": {
            "tags": []
          },
          "execution_count": 20
        }
      ]
    },
    {
      "cell_type": "code",
      "metadata": {
        "id": "WkcfNvKF-Y45"
      },
      "source": [
        "import xgboost as xgb"
      ],
      "execution_count": 9,
      "outputs": []
    },
    {
      "cell_type": "code",
      "metadata": {
        "id": "oUH7mpg8-nns"
      },
      "source": [
        "xgbr = xgb.XGBRegressor(verbosity=0) "
      ],
      "execution_count": 10,
      "outputs": []
    },
    {
      "cell_type": "code",
      "metadata": {
        "id": "RmaxSUwD-3ZF"
      },
      "source": [
        "\r\n",
        "x_train = x_train.iloc[:,1:]\r\n"
      ],
      "execution_count": 14,
      "outputs": []
    },
    {
      "cell_type": "code",
      "metadata": {
        "colab": {
          "base_uri": "https://localhost:8080/"
        },
        "id": "e5h3QSWUCSP4",
        "outputId": "da7045d1-d49c-4202-c280-5ab0c33e7f23"
      },
      "source": [
        "xgbr.fit(x_train, y)"
      ],
      "execution_count": 15,
      "outputs": [
        {
          "output_type": "execute_result",
          "data": {
            "text/plain": [
              "XGBRegressor(base_score=0.5, booster='gbtree', colsample_bylevel=1,\n",
              "             colsample_bynode=1, colsample_bytree=1, gamma=0,\n",
              "             importance_type='gain', learning_rate=0.1, max_delta_step=0,\n",
              "             max_depth=3, min_child_weight=1, missing=None, n_estimators=100,\n",
              "             n_jobs=1, nthread=None, objective='reg:linear', random_state=0,\n",
              "             reg_alpha=0, reg_lambda=1, scale_pos_weight=1, seed=None,\n",
              "             silent=None, subsample=1, verbosity=0)"
            ]
          },
          "metadata": {
            "tags": []
          },
          "execution_count": 15
        }
      ]
    },
    {
      "cell_type": "code",
      "metadata": {
        "colab": {
          "base_uri": "https://localhost:8080/"
        },
        "id": "yg0Q9I55_Kzc",
        "outputId": "b5c50aa6-df57-4d7e-dc06-36cf99b3c213"
      },
      "source": [
        "score = xgbr.score(x_train, y)  \r\n",
        "print(\"Training score: \", score)"
      ],
      "execution_count": 16,
      "outputs": [
        {
          "output_type": "stream",
          "text": [
            "Training score:  0.07902366426187213\n"
          ],
          "name": "stdout"
        }
      ]
    },
    {
      "cell_type": "code",
      "metadata": {
        "id": "ydG8s3cf_YuM"
      },
      "source": [
        "df2 =  pd.read_csv('test.csv')"
      ],
      "execution_count": 17,
      "outputs": []
    },
    {
      "cell_type": "code",
      "metadata": {
        "colab": {
          "base_uri": "https://localhost:8080/",
          "height": 224
        },
        "id": "0hglG6nOAJDd",
        "outputId": "69792b80-4a55-41de-ebdb-b089ff294fe3"
      },
      "source": [
        "cat_cols1 = df2.iloc[:,1:11]\r\n",
        "for cols in cat_cols1.columns:\r\n",
        "  lbl.fit(df2[cols])\r\n",
        "  df2[cols] = lbl.transform(df2[cols])\r\n",
        "df2.head()"
      ],
      "execution_count": 18,
      "outputs": [
        {
          "output_type": "execute_result",
          "data": {
            "text/html": [
              "<div>\n",
              "<style scoped>\n",
              "    .dataframe tbody tr th:only-of-type {\n",
              "        vertical-align: middle;\n",
              "    }\n",
              "\n",
              "    .dataframe tbody tr th {\n",
              "        vertical-align: top;\n",
              "    }\n",
              "\n",
              "    .dataframe thead th {\n",
              "        text-align: right;\n",
              "    }\n",
              "</style>\n",
              "<table border=\"1\" class=\"dataframe\">\n",
              "  <thead>\n",
              "    <tr style=\"text-align: right;\">\n",
              "      <th></th>\n",
              "      <th>id</th>\n",
              "      <th>cat0</th>\n",
              "      <th>cat1</th>\n",
              "      <th>cat2</th>\n",
              "      <th>cat3</th>\n",
              "      <th>cat4</th>\n",
              "      <th>cat5</th>\n",
              "      <th>cat6</th>\n",
              "      <th>cat7</th>\n",
              "      <th>cat8</th>\n",
              "      <th>cat9</th>\n",
              "      <th>cont0</th>\n",
              "      <th>cont1</th>\n",
              "      <th>cont2</th>\n",
              "      <th>cont3</th>\n",
              "      <th>cont4</th>\n",
              "      <th>cont5</th>\n",
              "      <th>cont6</th>\n",
              "      <th>cont7</th>\n",
              "      <th>cont8</th>\n",
              "      <th>cont9</th>\n",
              "      <th>cont10</th>\n",
              "      <th>cont11</th>\n",
              "      <th>cont12</th>\n",
              "      <th>cont13</th>\n",
              "    </tr>\n",
              "  </thead>\n",
              "  <tbody>\n",
              "    <tr>\n",
              "      <th>0</th>\n",
              "      <td>0</td>\n",
              "      <td>0</td>\n",
              "      <td>1</td>\n",
              "      <td>0</td>\n",
              "      <td>2</td>\n",
              "      <td>1</td>\n",
              "      <td>3</td>\n",
              "      <td>0</td>\n",
              "      <td>4</td>\n",
              "      <td>4</td>\n",
              "      <td>6</td>\n",
              "      <td>0.331261</td>\n",
              "      <td>0.551131</td>\n",
              "      <td>0.486284</td>\n",
              "      <td>0.156058</td>\n",
              "      <td>0.701679</td>\n",
              "      <td>0.595507</td>\n",
              "      <td>0.286912</td>\n",
              "      <td>0.279884</td>\n",
              "      <td>0.202234</td>\n",
              "      <td>0.242654</td>\n",
              "      <td>0.285147</td>\n",
              "      <td>0.264308</td>\n",
              "      <td>0.653654</td>\n",
              "      <td>0.302448</td>\n",
              "    </tr>\n",
              "    <tr>\n",
              "      <th>1</th>\n",
              "      <td>5</td>\n",
              "      <td>0</td>\n",
              "      <td>1</td>\n",
              "      <td>0</td>\n",
              "      <td>2</td>\n",
              "      <td>1</td>\n",
              "      <td>3</td>\n",
              "      <td>0</td>\n",
              "      <td>4</td>\n",
              "      <td>2</td>\n",
              "      <td>11</td>\n",
              "      <td>0.402404</td>\n",
              "      <td>0.617546</td>\n",
              "      <td>0.296852</td>\n",
              "      <td>0.187440</td>\n",
              "      <td>0.277480</td>\n",
              "      <td>0.479552</td>\n",
              "      <td>0.397436</td>\n",
              "      <td>0.476742</td>\n",
              "      <td>0.857073</td>\n",
              "      <td>0.516393</td>\n",
              "      <td>0.562065</td>\n",
              "      <td>0.730542</td>\n",
              "      <td>0.318492</td>\n",
              "      <td>0.736251</td>\n",
              "    </tr>\n",
              "    <tr>\n",
              "      <th>2</th>\n",
              "      <td>15</td>\n",
              "      <td>0</td>\n",
              "      <td>1</td>\n",
              "      <td>0</td>\n",
              "      <td>2</td>\n",
              "      <td>1</td>\n",
              "      <td>3</td>\n",
              "      <td>0</td>\n",
              "      <td>4</td>\n",
              "      <td>2</td>\n",
              "      <td>5</td>\n",
              "      <td>0.530677</td>\n",
              "      <td>0.618126</td>\n",
              "      <td>0.760865</td>\n",
              "      <td>0.199872</td>\n",
              "      <td>0.279508</td>\n",
              "      <td>0.676395</td>\n",
              "      <td>0.695284</td>\n",
              "      <td>0.253316</td>\n",
              "      <td>0.586934</td>\n",
              "      <td>0.548555</td>\n",
              "      <td>0.836193</td>\n",
              "      <td>0.759788</td>\n",
              "      <td>0.333572</td>\n",
              "      <td>0.273905</td>\n",
              "    </tr>\n",
              "    <tr>\n",
              "      <th>3</th>\n",
              "      <td>16</td>\n",
              "      <td>0</td>\n",
              "      <td>0</td>\n",
              "      <td>1</td>\n",
              "      <td>0</td>\n",
              "      <td>1</td>\n",
              "      <td>3</td>\n",
              "      <td>0</td>\n",
              "      <td>4</td>\n",
              "      <td>4</td>\n",
              "      <td>5</td>\n",
              "      <td>0.439653</td>\n",
              "      <td>0.487403</td>\n",
              "      <td>0.715786</td>\n",
              "      <td>0.192808</td>\n",
              "      <td>0.479503</td>\n",
              "      <td>0.759875</td>\n",
              "      <td>0.240049</td>\n",
              "      <td>0.298074</td>\n",
              "      <td>0.442475</td>\n",
              "      <td>0.596746</td>\n",
              "      <td>0.414131</td>\n",
              "      <td>0.255382</td>\n",
              "      <td>0.589080</td>\n",
              "      <td>0.311625</td>\n",
              "    </tr>\n",
              "    <tr>\n",
              "      <th>4</th>\n",
              "      <td>17</td>\n",
              "      <td>0</td>\n",
              "      <td>1</td>\n",
              "      <td>0</td>\n",
              "      <td>0</td>\n",
              "      <td>1</td>\n",
              "      <td>1</td>\n",
              "      <td>0</td>\n",
              "      <td>4</td>\n",
              "      <td>4</td>\n",
              "      <td>8</td>\n",
              "      <td>0.389844</td>\n",
              "      <td>0.752760</td>\n",
              "      <td>0.315269</td>\n",
              "      <td>0.191734</td>\n",
              "      <td>0.757845</td>\n",
              "      <td>0.210232</td>\n",
              "      <td>0.329851</td>\n",
              "      <td>0.616663</td>\n",
              "      <td>0.170475</td>\n",
              "      <td>0.263235</td>\n",
              "      <td>0.710961</td>\n",
              "      <td>0.224045</td>\n",
              "      <td>0.285860</td>\n",
              "      <td>0.794931</td>\n",
              "    </tr>\n",
              "  </tbody>\n",
              "</table>\n",
              "</div>"
            ],
            "text/plain": [
              "   id  cat0  cat1  cat2  cat3  ...     cont9    cont10    cont11    cont12    cont13\n",
              "0   0     0     1     0     2  ...  0.242654  0.285147  0.264308  0.653654  0.302448\n",
              "1   5     0     1     0     2  ...  0.516393  0.562065  0.730542  0.318492  0.736251\n",
              "2  15     0     1     0     2  ...  0.548555  0.836193  0.759788  0.333572  0.273905\n",
              "3  16     0     0     1     0  ...  0.596746  0.414131  0.255382  0.589080  0.311625\n",
              "4  17     0     1     0     0  ...  0.263235  0.710961  0.224045  0.285860  0.794931\n",
              "\n",
              "[5 rows x 25 columns]"
            ]
          },
          "metadata": {
            "tags": []
          },
          "execution_count": 18
        }
      ]
    },
    {
      "cell_type": "code",
      "metadata": {
        "colab": {
          "base_uri": "https://localhost:8080/",
          "height": 224
        },
        "id": "T4Nu8yJqAMid",
        "outputId": "f71843ad-dfab-401b-e581-98d19ce9faf2"
      },
      "source": [
        "for cols in cat_cols1:\r\n",
        "  df2[cols] = scaler.transform(df2[[cols]])\r\n",
        "df2.head()"
      ],
      "execution_count": 19,
      "outputs": [
        {
          "output_type": "execute_result",
          "data": {
            "text/html": [
              "<div>\n",
              "<style scoped>\n",
              "    .dataframe tbody tr th:only-of-type {\n",
              "        vertical-align: middle;\n",
              "    }\n",
              "\n",
              "    .dataframe tbody tr th {\n",
              "        vertical-align: top;\n",
              "    }\n",
              "\n",
              "    .dataframe thead th {\n",
              "        text-align: right;\n",
              "    }\n",
              "</style>\n",
              "<table border=\"1\" class=\"dataframe\">\n",
              "  <thead>\n",
              "    <tr style=\"text-align: right;\">\n",
              "      <th></th>\n",
              "      <th>id</th>\n",
              "      <th>cat0</th>\n",
              "      <th>cat1</th>\n",
              "      <th>cat2</th>\n",
              "      <th>cat3</th>\n",
              "      <th>cat4</th>\n",
              "      <th>cat5</th>\n",
              "      <th>cat6</th>\n",
              "      <th>cat7</th>\n",
              "      <th>cat8</th>\n",
              "      <th>cat9</th>\n",
              "      <th>cont0</th>\n",
              "      <th>cont1</th>\n",
              "      <th>cont2</th>\n",
              "      <th>cont3</th>\n",
              "      <th>cont4</th>\n",
              "      <th>cont5</th>\n",
              "      <th>cont6</th>\n",
              "      <th>cont7</th>\n",
              "      <th>cont8</th>\n",
              "      <th>cont9</th>\n",
              "      <th>cont10</th>\n",
              "      <th>cont11</th>\n",
              "      <th>cont12</th>\n",
              "      <th>cont13</th>\n",
              "    </tr>\n",
              "  </thead>\n",
              "  <tbody>\n",
              "    <tr>\n",
              "      <th>0</th>\n",
              "      <td>0</td>\n",
              "      <td>-2.349065</td>\n",
              "      <td>-2.024556</td>\n",
              "      <td>-2.349065</td>\n",
              "      <td>-1.700048</td>\n",
              "      <td>-2.024556</td>\n",
              "      <td>-1.375539</td>\n",
              "      <td>-2.349065</td>\n",
              "      <td>-1.051031</td>\n",
              "      <td>-1.051031</td>\n",
              "      <td>-0.402013</td>\n",
              "      <td>0.331261</td>\n",
              "      <td>0.551131</td>\n",
              "      <td>0.486284</td>\n",
              "      <td>0.156058</td>\n",
              "      <td>0.701679</td>\n",
              "      <td>0.595507</td>\n",
              "      <td>0.286912</td>\n",
              "      <td>0.279884</td>\n",
              "      <td>0.202234</td>\n",
              "      <td>0.242654</td>\n",
              "      <td>0.285147</td>\n",
              "      <td>0.264308</td>\n",
              "      <td>0.653654</td>\n",
              "      <td>0.302448</td>\n",
              "    </tr>\n",
              "    <tr>\n",
              "      <th>1</th>\n",
              "      <td>5</td>\n",
              "      <td>-2.349065</td>\n",
              "      <td>-2.024556</td>\n",
              "      <td>-2.349065</td>\n",
              "      <td>-1.700048</td>\n",
              "      <td>-2.024556</td>\n",
              "      <td>-1.375539</td>\n",
              "      <td>-2.349065</td>\n",
              "      <td>-1.051031</td>\n",
              "      <td>-1.700048</td>\n",
              "      <td>1.220530</td>\n",
              "      <td>0.402404</td>\n",
              "      <td>0.617546</td>\n",
              "      <td>0.296852</td>\n",
              "      <td>0.187440</td>\n",
              "      <td>0.277480</td>\n",
              "      <td>0.479552</td>\n",
              "      <td>0.397436</td>\n",
              "      <td>0.476742</td>\n",
              "      <td>0.857073</td>\n",
              "      <td>0.516393</td>\n",
              "      <td>0.562065</td>\n",
              "      <td>0.730542</td>\n",
              "      <td>0.318492</td>\n",
              "      <td>0.736251</td>\n",
              "    </tr>\n",
              "    <tr>\n",
              "      <th>2</th>\n",
              "      <td>15</td>\n",
              "      <td>-2.349065</td>\n",
              "      <td>-2.024556</td>\n",
              "      <td>-2.349065</td>\n",
              "      <td>-1.700048</td>\n",
              "      <td>-2.024556</td>\n",
              "      <td>-1.375539</td>\n",
              "      <td>-2.349065</td>\n",
              "      <td>-1.051031</td>\n",
              "      <td>-1.700048</td>\n",
              "      <td>-0.726522</td>\n",
              "      <td>0.530677</td>\n",
              "      <td>0.618126</td>\n",
              "      <td>0.760865</td>\n",
              "      <td>0.199872</td>\n",
              "      <td>0.279508</td>\n",
              "      <td>0.676395</td>\n",
              "      <td>0.695284</td>\n",
              "      <td>0.253316</td>\n",
              "      <td>0.586934</td>\n",
              "      <td>0.548555</td>\n",
              "      <td>0.836193</td>\n",
              "      <td>0.759788</td>\n",
              "      <td>0.333572</td>\n",
              "      <td>0.273905</td>\n",
              "    </tr>\n",
              "    <tr>\n",
              "      <th>3</th>\n",
              "      <td>16</td>\n",
              "      <td>-2.349065</td>\n",
              "      <td>-2.349065</td>\n",
              "      <td>-2.024556</td>\n",
              "      <td>-2.349065</td>\n",
              "      <td>-2.024556</td>\n",
              "      <td>-1.375539</td>\n",
              "      <td>-2.349065</td>\n",
              "      <td>-1.051031</td>\n",
              "      <td>-1.051031</td>\n",
              "      <td>-0.726522</td>\n",
              "      <td>0.439653</td>\n",
              "      <td>0.487403</td>\n",
              "      <td>0.715786</td>\n",
              "      <td>0.192808</td>\n",
              "      <td>0.479503</td>\n",
              "      <td>0.759875</td>\n",
              "      <td>0.240049</td>\n",
              "      <td>0.298074</td>\n",
              "      <td>0.442475</td>\n",
              "      <td>0.596746</td>\n",
              "      <td>0.414131</td>\n",
              "      <td>0.255382</td>\n",
              "      <td>0.589080</td>\n",
              "      <td>0.311625</td>\n",
              "    </tr>\n",
              "    <tr>\n",
              "      <th>4</th>\n",
              "      <td>17</td>\n",
              "      <td>-2.349065</td>\n",
              "      <td>-2.024556</td>\n",
              "      <td>-2.349065</td>\n",
              "      <td>-2.349065</td>\n",
              "      <td>-2.024556</td>\n",
              "      <td>-2.024556</td>\n",
              "      <td>-2.349065</td>\n",
              "      <td>-1.051031</td>\n",
              "      <td>-1.051031</td>\n",
              "      <td>0.247004</td>\n",
              "      <td>0.389844</td>\n",
              "      <td>0.752760</td>\n",
              "      <td>0.315269</td>\n",
              "      <td>0.191734</td>\n",
              "      <td>0.757845</td>\n",
              "      <td>0.210232</td>\n",
              "      <td>0.329851</td>\n",
              "      <td>0.616663</td>\n",
              "      <td>0.170475</td>\n",
              "      <td>0.263235</td>\n",
              "      <td>0.710961</td>\n",
              "      <td>0.224045</td>\n",
              "      <td>0.285860</td>\n",
              "      <td>0.794931</td>\n",
              "    </tr>\n",
              "  </tbody>\n",
              "</table>\n",
              "</div>"
            ],
            "text/plain": [
              "   id      cat0      cat1      cat2  ...    cont10    cont11    cont12    cont13\n",
              "0   0 -2.349065 -2.024556 -2.349065  ...  0.285147  0.264308  0.653654  0.302448\n",
              "1   5 -2.349065 -2.024556 -2.349065  ...  0.562065  0.730542  0.318492  0.736251\n",
              "2  15 -2.349065 -2.024556 -2.349065  ...  0.836193  0.759788  0.333572  0.273905\n",
              "3  16 -2.349065 -2.349065 -2.024556  ...  0.414131  0.255382  0.589080  0.311625\n",
              "4  17 -2.349065 -2.024556 -2.349065  ...  0.710961  0.224045  0.285860  0.794931\n",
              "\n",
              "[5 rows x 25 columns]"
            ]
          },
          "metadata": {
            "tags": []
          },
          "execution_count": 19
        }
      ]
    },
    {
      "cell_type": "code",
      "metadata": {
        "id": "i8RKblWaAP19"
      },
      "source": [
        "x_test_pca=pca.transform(df2)"
      ],
      "execution_count": 29,
      "outputs": []
    },
    {
      "cell_type": "code",
      "metadata": {
        "id": "k3hl16lYAVB1"
      },
      "source": [
        "ypred = xgbr.predict(df2.iloc[:,1:])"
      ],
      "execution_count": 20,
      "outputs": []
    },
    {
      "cell_type": "code",
      "metadata": {
        "colab": {
          "base_uri": "https://localhost:8080/",
          "height": 204
        },
        "id": "4ZXZxrdUAciU",
        "outputId": "eee76a29-74c5-408e-e440-177d8bf4e947"
      },
      "source": [
        "sub = pd.DataFrame()\r\n",
        "sub[\"id\"] = df2[\"id\"]\r\n",
        "sub[\"target\"] = ypred\r\n",
        "sub.head()"
      ],
      "execution_count": 21,
      "outputs": [
        {
          "output_type": "execute_result",
          "data": {
            "text/html": [
              "<div>\n",
              "<style scoped>\n",
              "    .dataframe tbody tr th:only-of-type {\n",
              "        vertical-align: middle;\n",
              "    }\n",
              "\n",
              "    .dataframe tbody tr th {\n",
              "        vertical-align: top;\n",
              "    }\n",
              "\n",
              "    .dataframe thead th {\n",
              "        text-align: right;\n",
              "    }\n",
              "</style>\n",
              "<table border=\"1\" class=\"dataframe\">\n",
              "  <thead>\n",
              "    <tr style=\"text-align: right;\">\n",
              "      <th></th>\n",
              "      <th>id</th>\n",
              "      <th>target</th>\n",
              "    </tr>\n",
              "  </thead>\n",
              "  <tbody>\n",
              "    <tr>\n",
              "      <th>0</th>\n",
              "      <td>0</td>\n",
              "      <td>7.265133</td>\n",
              "    </tr>\n",
              "    <tr>\n",
              "      <th>1</th>\n",
              "      <td>5</td>\n",
              "      <td>7.612457</td>\n",
              "    </tr>\n",
              "    <tr>\n",
              "      <th>2</th>\n",
              "      <td>15</td>\n",
              "      <td>7.378393</td>\n",
              "    </tr>\n",
              "    <tr>\n",
              "      <th>3</th>\n",
              "      <td>16</td>\n",
              "      <td>7.224644</td>\n",
              "    </tr>\n",
              "    <tr>\n",
              "      <th>4</th>\n",
              "      <td>17</td>\n",
              "      <td>7.226149</td>\n",
              "    </tr>\n",
              "  </tbody>\n",
              "</table>\n",
              "</div>"
            ],
            "text/plain": [
              "   id    target\n",
              "0   0  7.265133\n",
              "1   5  7.612457\n",
              "2  15  7.378393\n",
              "3  16  7.224644\n",
              "4  17  7.226149"
            ]
          },
          "metadata": {
            "tags": []
          },
          "execution_count": 21
        }
      ]
    },
    {
      "cell_type": "code",
      "metadata": {
        "id": "fRIk8cmkAyu9"
      },
      "source": [
        "sub.to_csv('submission.csv', index=False)"
      ],
      "execution_count": 22,
      "outputs": []
    },
    {
      "cell_type": "code",
      "metadata": {
        "id": "yWLkCCZkA5bF"
      },
      "source": [
        ""
      ],
      "execution_count": null,
      "outputs": []
    }
  ]
}